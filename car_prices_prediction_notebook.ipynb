{
 "cells": [
  {
   "cell_type": "code",
   "execution_count": 1,
   "metadata": {
    "_sphinx_cell_id": "61a9030e-3053-4865-a2cb-0329ffad103d",
    "id": "f6A8PsDDcaeK"
   },
   "outputs": [],
   "source": [
    "#import important libaries\n",
    "\n",
    "import numpy as np\n",
    "import pandas as pd\n",
    "import matplotlib.pyplot as plt\n",
    "import seaborn as sns\n",
    "\n",
    "import warnings\n",
    "warnings.filterwarnings('ignore')"
   ]
  },
  {
   "cell_type": "code",
   "execution_count": 2,
   "metadata": {
    "_sphinx_cell_id": "e8ee2e40-8a4a-4e79-8e13-fbb61c01d257",
    "id": "TtVBkAo7dWga"
   },
   "outputs": [],
   "source": [
    "# Load the train, test and sample_submission\n",
    "\n",
    "df_train = pd.read_csv('train.csv')\n",
    "df_test = pd.read_csv('test.csv')\n",
    "sample_sub = pd.read_csv('sample_submission.csv')"
   ]
  },
  {
   "cell_type": "code",
   "execution_count": 3,
   "metadata": {},
   "outputs": [
    {
     "data": {
      "text/html": [
       "<div>\n",
       "<style scoped>\n",
       "    .dataframe tbody tr th:only-of-type {\n",
       "        vertical-align: middle;\n",
       "    }\n",
       "\n",
       "    .dataframe tbody tr th {\n",
       "        vertical-align: top;\n",
       "    }\n",
       "\n",
       "    .dataframe thead th {\n",
       "        text-align: right;\n",
       "    }\n",
       "</style>\n",
       "<table border=\"1\" class=\"dataframe\">\n",
       "  <thead>\n",
       "    <tr style=\"text-align: right;\">\n",
       "      <th></th>\n",
       "      <th>id</th>\n",
       "      <th>brand</th>\n",
       "      <th>model</th>\n",
       "      <th>model_year</th>\n",
       "      <th>milage</th>\n",
       "      <th>fuel_type</th>\n",
       "      <th>engine</th>\n",
       "      <th>transmission</th>\n",
       "      <th>ext_col</th>\n",
       "      <th>int_col</th>\n",
       "      <th>accident</th>\n",
       "      <th>clean_title</th>\n",
       "      <th>price</th>\n",
       "    </tr>\n",
       "  </thead>\n",
       "  <tbody>\n",
       "    <tr>\n",
       "      <th>0</th>\n",
       "      <td>0</td>\n",
       "      <td>MINI</td>\n",
       "      <td>Cooper S Base</td>\n",
       "      <td>2007</td>\n",
       "      <td>213000</td>\n",
       "      <td>Gasoline</td>\n",
       "      <td>172.0HP 1.6L 4 Cylinder Engine Gasoline Fuel</td>\n",
       "      <td>A/T</td>\n",
       "      <td>Yellow</td>\n",
       "      <td>Gray</td>\n",
       "      <td>None reported</td>\n",
       "      <td>Yes</td>\n",
       "      <td>4200</td>\n",
       "    </tr>\n",
       "    <tr>\n",
       "      <th>1</th>\n",
       "      <td>1</td>\n",
       "      <td>Lincoln</td>\n",
       "      <td>LS V8</td>\n",
       "      <td>2002</td>\n",
       "      <td>143250</td>\n",
       "      <td>Gasoline</td>\n",
       "      <td>252.0HP 3.9L 8 Cylinder Engine Gasoline Fuel</td>\n",
       "      <td>A/T</td>\n",
       "      <td>Silver</td>\n",
       "      <td>Beige</td>\n",
       "      <td>At least 1 accident or damage reported</td>\n",
       "      <td>Yes</td>\n",
       "      <td>4999</td>\n",
       "    </tr>\n",
       "    <tr>\n",
       "      <th>2</th>\n",
       "      <td>2</td>\n",
       "      <td>Chevrolet</td>\n",
       "      <td>Silverado 2500 LT</td>\n",
       "      <td>2002</td>\n",
       "      <td>136731</td>\n",
       "      <td>E85 Flex Fuel</td>\n",
       "      <td>320.0HP 5.3L 8 Cylinder Engine Flex Fuel Capab...</td>\n",
       "      <td>A/T</td>\n",
       "      <td>Blue</td>\n",
       "      <td>Gray</td>\n",
       "      <td>None reported</td>\n",
       "      <td>Yes</td>\n",
       "      <td>13900</td>\n",
       "    </tr>\n",
       "    <tr>\n",
       "      <th>3</th>\n",
       "      <td>3</td>\n",
       "      <td>Genesis</td>\n",
       "      <td>G90 5.0 Ultimate</td>\n",
       "      <td>2017</td>\n",
       "      <td>19500</td>\n",
       "      <td>Gasoline</td>\n",
       "      <td>420.0HP 5.0L 8 Cylinder Engine Gasoline Fuel</td>\n",
       "      <td>Transmission w/Dual Shift Mode</td>\n",
       "      <td>Black</td>\n",
       "      <td>Black</td>\n",
       "      <td>None reported</td>\n",
       "      <td>Yes</td>\n",
       "      <td>45000</td>\n",
       "    </tr>\n",
       "    <tr>\n",
       "      <th>4</th>\n",
       "      <td>4</td>\n",
       "      <td>Mercedes-Benz</td>\n",
       "      <td>Metris Base</td>\n",
       "      <td>2021</td>\n",
       "      <td>7388</td>\n",
       "      <td>Gasoline</td>\n",
       "      <td>208.0HP 2.0L 4 Cylinder Engine Gasoline Fuel</td>\n",
       "      <td>7-Speed A/T</td>\n",
       "      <td>Black</td>\n",
       "      <td>Beige</td>\n",
       "      <td>None reported</td>\n",
       "      <td>Yes</td>\n",
       "      <td>97500</td>\n",
       "    </tr>\n",
       "  </tbody>\n",
       "</table>\n",
       "</div>"
      ],
      "text/plain": [
       "   id          brand              model  model_year  milage      fuel_type  \\\n",
       "0   0           MINI      Cooper S Base        2007  213000       Gasoline   \n",
       "1   1        Lincoln              LS V8        2002  143250       Gasoline   \n",
       "2   2      Chevrolet  Silverado 2500 LT        2002  136731  E85 Flex Fuel   \n",
       "3   3        Genesis   G90 5.0 Ultimate        2017   19500       Gasoline   \n",
       "4   4  Mercedes-Benz        Metris Base        2021    7388       Gasoline   \n",
       "\n",
       "                                              engine  \\\n",
       "0       172.0HP 1.6L 4 Cylinder Engine Gasoline Fuel   \n",
       "1       252.0HP 3.9L 8 Cylinder Engine Gasoline Fuel   \n",
       "2  320.0HP 5.3L 8 Cylinder Engine Flex Fuel Capab...   \n",
       "3       420.0HP 5.0L 8 Cylinder Engine Gasoline Fuel   \n",
       "4       208.0HP 2.0L 4 Cylinder Engine Gasoline Fuel   \n",
       "\n",
       "                     transmission ext_col int_col  \\\n",
       "0                             A/T  Yellow    Gray   \n",
       "1                             A/T  Silver   Beige   \n",
       "2                             A/T    Blue    Gray   \n",
       "3  Transmission w/Dual Shift Mode   Black   Black   \n",
       "4                     7-Speed A/T   Black   Beige   \n",
       "\n",
       "                                 accident clean_title  price  \n",
       "0                           None reported         Yes   4200  \n",
       "1  At least 1 accident or damage reported         Yes   4999  \n",
       "2                           None reported         Yes  13900  \n",
       "3                           None reported         Yes  45000  \n",
       "4                           None reported         Yes  97500  "
      ]
     },
     "execution_count": 3,
     "metadata": {},
     "output_type": "execute_result"
    }
   ],
   "source": [
    "#Check the head of the train set\n",
    "df_train.head()"
   ]
  },
  {
   "cell_type": "code",
   "execution_count": 4,
   "metadata": {},
   "outputs": [
    {
     "name": "stdout",
     "output_type": "stream",
     "text": [
      "<class 'pandas.core.frame.DataFrame'>\n",
      "RangeIndex: 188533 entries, 0 to 188532\n",
      "Data columns (total 13 columns):\n",
      " #   Column        Non-Null Count   Dtype \n",
      "---  ------        --------------   ----- \n",
      " 0   id            188533 non-null  int64 \n",
      " 1   brand         188533 non-null  object\n",
      " 2   model         188533 non-null  object\n",
      " 3   model_year    188533 non-null  int64 \n",
      " 4   milage        188533 non-null  int64 \n",
      " 5   fuel_type     183450 non-null  object\n",
      " 6   engine        188533 non-null  object\n",
      " 7   transmission  188533 non-null  object\n",
      " 8   ext_col       188533 non-null  object\n",
      " 9   int_col       188533 non-null  object\n",
      " 10  accident      186081 non-null  object\n",
      " 11  clean_title   167114 non-null  object\n",
      " 12  price         188533 non-null  int64 \n",
      "dtypes: int64(4), object(9)\n",
      "memory usage: 18.7+ MB\n"
     ]
    }
   ],
   "source": [
    "#Check the info of train set\n",
    "df_train.info()"
   ]
  },
  {
   "cell_type": "code",
   "execution_count": 5,
   "metadata": {},
   "outputs": [
    {
     "data": {
      "text/html": [
       "<div>\n",
       "<style scoped>\n",
       "    .dataframe tbody tr th:only-of-type {\n",
       "        vertical-align: middle;\n",
       "    }\n",
       "\n",
       "    .dataframe tbody tr th {\n",
       "        vertical-align: top;\n",
       "    }\n",
       "\n",
       "    .dataframe thead th {\n",
       "        text-align: right;\n",
       "    }\n",
       "</style>\n",
       "<table border=\"1\" class=\"dataframe\">\n",
       "  <thead>\n",
       "    <tr style=\"text-align: right;\">\n",
       "      <th></th>\n",
       "      <th>id</th>\n",
       "      <th>model_year</th>\n",
       "      <th>milage</th>\n",
       "      <th>price</th>\n",
       "    </tr>\n",
       "  </thead>\n",
       "  <tbody>\n",
       "    <tr>\n",
       "      <th>count</th>\n",
       "      <td>188533.000000</td>\n",
       "      <td>188533.000000</td>\n",
       "      <td>188533.000000</td>\n",
       "      <td>1.885330e+05</td>\n",
       "    </tr>\n",
       "    <tr>\n",
       "      <th>mean</th>\n",
       "      <td>94266.000000</td>\n",
       "      <td>2015.829998</td>\n",
       "      <td>65705.295174</td>\n",
       "      <td>4.387802e+04</td>\n",
       "    </tr>\n",
       "    <tr>\n",
       "      <th>std</th>\n",
       "      <td>54424.933488</td>\n",
       "      <td>5.660967</td>\n",
       "      <td>49798.158076</td>\n",
       "      <td>7.881952e+04</td>\n",
       "    </tr>\n",
       "    <tr>\n",
       "      <th>min</th>\n",
       "      <td>0.000000</td>\n",
       "      <td>1974.000000</td>\n",
       "      <td>100.000000</td>\n",
       "      <td>2.000000e+03</td>\n",
       "    </tr>\n",
       "    <tr>\n",
       "      <th>25%</th>\n",
       "      <td>47133.000000</td>\n",
       "      <td>2013.000000</td>\n",
       "      <td>24115.000000</td>\n",
       "      <td>1.700000e+04</td>\n",
       "    </tr>\n",
       "    <tr>\n",
       "      <th>50%</th>\n",
       "      <td>94266.000000</td>\n",
       "      <td>2017.000000</td>\n",
       "      <td>57785.000000</td>\n",
       "      <td>3.082500e+04</td>\n",
       "    </tr>\n",
       "    <tr>\n",
       "      <th>75%</th>\n",
       "      <td>141399.000000</td>\n",
       "      <td>2020.000000</td>\n",
       "      <td>95400.000000</td>\n",
       "      <td>4.990000e+04</td>\n",
       "    </tr>\n",
       "    <tr>\n",
       "      <th>max</th>\n",
       "      <td>188532.000000</td>\n",
       "      <td>2024.000000</td>\n",
       "      <td>405000.000000</td>\n",
       "      <td>2.954083e+06</td>\n",
       "    </tr>\n",
       "  </tbody>\n",
       "</table>\n",
       "</div>"
      ],
      "text/plain": [
       "                  id     model_year         milage         price\n",
       "count  188533.000000  188533.000000  188533.000000  1.885330e+05\n",
       "mean    94266.000000    2015.829998   65705.295174  4.387802e+04\n",
       "std     54424.933488       5.660967   49798.158076  7.881952e+04\n",
       "min         0.000000    1974.000000     100.000000  2.000000e+03\n",
       "25%     47133.000000    2013.000000   24115.000000  1.700000e+04\n",
       "50%     94266.000000    2017.000000   57785.000000  3.082500e+04\n",
       "75%    141399.000000    2020.000000   95400.000000  4.990000e+04\n",
       "max    188532.000000    2024.000000  405000.000000  2.954083e+06"
      ]
     },
     "execution_count": 5,
     "metadata": {},
     "output_type": "execute_result"
    }
   ],
   "source": [
    "#Check the description of the numerical features in the train set\n",
    "df_train.describe()"
   ]
  },
  {
   "cell_type": "code",
   "execution_count": 6,
   "metadata": {},
   "outputs": [
    {
     "data": {
      "text/plain": [
       "id              188533\n",
       "brand               57\n",
       "model             1897\n",
       "model_year          34\n",
       "milage            6651\n",
       "fuel_type            7\n",
       "engine            1117\n",
       "transmission        52\n",
       "ext_col            319\n",
       "int_col            156\n",
       "accident             2\n",
       "clean_title          1\n",
       "price             1569\n",
       "dtype: int64"
      ]
     },
     "execution_count": 6,
     "metadata": {},
     "output_type": "execute_result"
    }
   ],
   "source": [
    "# Check the number of unique values in the train set \n",
    "df_train.nunique()"
   ]
  },
  {
   "cell_type": "markdown",
   "metadata": {},
   "source": [
    "## EDA"
   ]
  },
  {
   "cell_type": "code",
   "execution_count": 7,
   "metadata": {},
   "outputs": [
    {
     "data": {
      "text/plain": [
       "<Axes: xlabel='price'>"
      ]
     },
     "execution_count": 7,
     "metadata": {},
     "output_type": "execute_result"
    },
    {
     "data": {
      "image/png": "[encoded data removed]",
      "text/plain": [
       "<Figure size 640x480 with 1 Axes>"
      ]
     },
     "metadata": {},
     "output_type": "display_data"
    }
   ],
   "source": [
    "sns.boxplot(df_train, x='price')"
   ]
  },
  {
   "cell_type": "code",
   "execution_count": 8,
   "metadata": {},
   "outputs": [],
   "source": [
    "# Apply Log_Transform to the Price column\n",
    "df_train.price = np.log1p(df_train.price)"
   ]
  },
  {
   "cell_type": "code",
   "execution_count": 9,
   "metadata": {},
   "outputs": [
    {
     "data": {
      "text/plain": [
       "<Axes: xlabel='price'>"
      ]
     },
     "execution_count": 9,
     "metadata": {},
     "output_type": "execute_result"
    },
    {
     "data": {
      "image/png": "[encoded data removed]",
      "text/plain": [
       "<Figure size 640x480 with 1 Axes>"
      ]
     },
     "metadata": {},
     "output_type": "display_data"
    }
   ],
   "source": [
    "sns.boxplot(df_train, x='price')"
   ]
  },
  {
   "cell_type": "code",
   "execution_count": 10,
   "metadata": {},
   "outputs": [
    {
     "data": {
      "text/plain": [
       "<Axes: xlabel='price', ylabel='Count'>"
      ]
     },
     "execution_count": 10,
     "metadata": {},
     "output_type": "execute_result"
    },
    {
     "data": {
      "image/png": "[encoded data removed]",
      "text/plain": [
       "<Figure size 640x480 with 1 Axes>"
      ]
     },
     "metadata": {},
     "output_type": "display_data"
    }
   ],
   "source": [
    "sns.histplot(df_train, x='price', kde=True)"
   ]
  },
  {
   "cell_type": "code",
   "execution_count": 11,
   "metadata": {},
   "outputs": [
    {
     "data": {
      "text/plain": [
       "<Axes: xlabel='model_year', ylabel='Count'>"
      ]
     },
     "execution_count": 11,
     "metadata": {},
     "output_type": "execute_result"
    },
    {
     "data": {
      "image/png": "[encoded data removed]",
      "text/plain": [
       "<Figure size 640x480 with 1 Axes>"
      ]
     },
     "metadata": {},
     "output_type": "display_data"
    }
   ],
   "source": [
    "sns.histplot(df_train, x='model_year')"
   ]
  },
  {
   "cell_type": "code",
   "execution_count": 12,
   "metadata": {},
   "outputs": [
    {
     "data": {
      "text/plain": [
       "<Axes: xlabel='model_year'>"
      ]
     },
     "execution_count": 12,
     "metadata": {},
     "output_type": "execute_result"
    },
    {
     "data": {
      "image/png": "[encoded data removed]",
      "text/plain": [
       "<Figure size 640x480 with 1 Axes>"
      ]
     },
     "metadata": {},
     "output_type": "display_data"
    }
   ],
   "source": [
    "sns.boxplot(df_train, x='model_year')"
   ]
  },
  {
   "cell_type": "code",
   "execution_count": 13,
   "metadata": {},
   "outputs": [],
   "source": [
    "# Create a New Feature \"car_age\"\n",
    "df_train['car_age'] = 2025 - df_train['model_year']\n",
    "df_test['car_age'] = 2025 - df_test['model_year']"
   ]
  },
  {
   "cell_type": "code",
   "execution_count": 15,
   "metadata": {},
   "outputs": [
    {
     "data": {
      "text/plain": [
       "<Axes: xlabel='car_age'>"
      ]
     },
     "execution_count": 15,
     "metadata": {},
     "output_type": "execute_result"
    },
    {
     "data": {
      "image/png": "[encoded data removed]",
      "text/plain": [
       "<Figure size 640x480 with 1 Axes>"
      ]
     },
     "metadata": {},
     "output_type": "display_data"
    }
   ],
   "source": [
    "sns.boxplot(df_train, x='car_age')"
   ]
  },
  {
   "cell_type": "code",
   "execution_count": 16,
   "metadata": {},
   "outputs": [
    {
     "data": {
      "text/plain": [
       "<Axes: xlabel='car_age', ylabel='Count'>"
      ]
     },
     "execution_count": 16,
     "metadata": {},
     "output_type": "execute_result"
    },
    {
     "data": {
      "image/png": "[encoded data removed]",
      "text/plain": [
       "<Figure size 640x480 with 1 Axes>"
      ]
     },
     "metadata": {},
     "output_type": "display_data"
    }
   ],
   "source": [
    "sns.histplot(df_train, x='car_age')"
   ]
  },
  {
   "cell_type": "code",
   "execution_count": 17,
   "metadata": {},
   "outputs": [
    {
     "data": {
      "text/plain": [
       "<Axes: xlabel='milage', ylabel='Count'>"
      ]
     },
     "execution_count": 17,
     "metadata": {},
     "output_type": "execute_result"
    },
    {
     "data": {
      "image/png": "[encoded data removed]",
      "text/plain": [
       "<Figure size 640x480 with 1 Axes>"
      ]
     },
     "metadata": {},
     "output_type": "display_data"
    }
   ],
   "source": [
    "sns.histplot(df_train, x='milage')"
   ]
  },
  {
   "cell_type": "code",
   "execution_count": 18,
   "metadata": {},
   "outputs": [
    {
     "data": {
      "text/plain": [
       "<Axes: xlabel='milage'>"
      ]
     },
     "execution_count": 18,
     "metadata": {},
     "output_type": "execute_result"
    },
    {
     "data": {
      "image/png": "[encoded data removed]",
      "text/plain": [
       "<Figure size 640x480 with 1 Axes>"
      ]
     },
     "metadata": {},
     "output_type": "display_data"
    }
   ],
   "source": [
    "sns.boxplot(df_train, x='milage')"
   ]
  },
  {
   "cell_type": "code",
   "execution_count": 19,
   "metadata": {},
   "outputs": [
    {
     "data": {
      "text/plain": [
       "<Axes: xlabel='price', ylabel='Count'>"
      ]
     },
     "execution_count": 19,
     "metadata": {},
     "output_type": "execute_result"
    },
    {
     "data": {
      "image/png": "[encoded data removed]",
      "text/plain": [
       "<Figure size 640x480 with 1 Axes>"
      ]
     },
     "metadata": {},
     "output_type": "display_data"
    }
   ],
   "source": [
    "sns.histplot(df_train.groupby('milage')['price'].mean())"
   ]
  },
  {
   "cell_type": "code",
   "execution_count": 4,
   "metadata": {
    "_sphinx_cell_id": "8ce57572-d7cc-4ec2-8739-d6a05f47578f",
    "id": "nwgKFGNweogM"
   },
   "outputs": [],
   "source": [
    "# Apply lowercase to all the categorical features of the dataset\n",
    "df_train = df_train.applymap(lambda x: x.lower() if isinstance(x, str) else x)\n",
    "df_test = df_test.applymap(lambda x: x.lower() if isinstance(x, str) else x)"
   ]
  },
  {
   "cell_type": "code",
   "execution_count": 7,
   "metadata": {
    "_sphinx_cell_id": "acf25f9e-0478-4b25-ab3f-0a60a57a86fc",
    "id": "pC04ovKsfHjI"
   },
   "outputs": [],
   "source": [
    "# Fill the missing values with the mode in the accident column\n",
    "df_train.accident = df_train.accident.fillna('none reported')\n",
    "df_test.accident = df_test.accident.fillna('none reported')"
   ]
  },
  {
   "cell_type": "code",
   "execution_count": 22,
   "metadata": {
    "_sphinx_cell_id": "4cb048e2-3e63-4f04-a7b6-b4c5f99ed0ad"
   },
   "outputs": [],
   "source": [
    "# Fill the missing values with the mode in the clean_title column\n",
    "df_train.clean_title = df_train.clean_title.fillna('none reported')\n",
    "df_test.clean_title = df_test.clean_title.fillna('none reported')"
   ]
  },
  {
   "cell_type": "code",
   "execution_count": 9,
   "metadata": {},
   "outputs": [],
   "source": [
    "# Adjust the values in the int_col column \n",
    "import re\n",
    "\n",
    "def normalize_color(val):\n",
    "    if pd.isna(val) or val.strip() in [\"–\", \"-\", \"\"]:\n",
    "        return \"unknown\"\n",
    "    val = val.lower().strip()\n",
    "    val = re.sub(r'[^a-z\\s/]', '', val)\n",
    "    val = re.sub(r'\\s+', ' ', val)\n",
    "    return val"
   ]
  },
  {
   "cell_type": "code",
   "execution_count": 10,
   "metadata": {},
   "outputs": [],
   "source": [
    "color_map = {\n",
    "    # Black family\n",
    "    \"blk\": \"black\", \"nero\": \"black\", \"nero ade\": \"black\",\n",
    "    \"carbon black\": \"black\", \"jet black\": \"black\", \"satin black\": \"black\",\n",
    "    \"amg black\": \"black\", \"global black\": \"black\", \"obsidian black\": \"black\",\n",
    "    \n",
    "    # Gray family\n",
    "    \"charcoal\": \"gray\", \"anthracite\": \"gray\", \"slate\": \"gray\",\n",
    "    \"dark gray\": \"gray\", \"light gray\": \"gray\", \"graphite\": \"gray\",\n",
    "    \"ash\": \"gray\", \"rock gray\": \"gray\", \"medium ash gray\": \"gray\",\n",
    "    \n",
    "    # White family\n",
    "    \"white\": \"white\", \"grace white\": \"white\", \"pearl beige\": \"white\",\n",
    "    \"ivory\": \"white\", \"linen\": \"white\",\n",
    "    \n",
    "    # Red family\n",
    "    \"magma red\": \"red\", \"classic red\": \"red\", \"rioja red\": \"red\",\n",
    "    \"adrenaline red\": \"red\", \"hotspur\": \"red\", \"hotspur hide\": \"red\",\n",
    "    \"red/black\": \"red\", \"pimento\": \"red\",\n",
    "    \n",
    "    # Blue family\n",
    "    \"blue\": \"blue\", \"cobalt blue\": \"blue\", \"charles blue\": \"blue\",\n",
    "    \"rhapsody blue\": \"blue\", \"navy pier\": \"blue\",\n",
    "    \n",
    "    # Brown family\n",
    "    \"brown\": \"brown\", \"espresso\": \"brown\", \"mocha\": \"brown\",\n",
    "    \"walnut\": \"brown\", \"cappuccino\": \"brown\", \"brandy\": \"brown\",\n",
    "    \"saddle brown\": \"brown\", \"chestnut\": \"brown\", \"deep chestnut\": \"brown\",\n",
    "    \n",
    "    # Beige family\n",
    "    \"beige\": \"beige\", \"camel\": \"beige\", \"tan\": \"beige\", \n",
    "    \"almond beige\": \"beige\", \"macchiato\": \"beige\",\n",
    "    \n",
    "    # Green family\n",
    "    \"green\": \"green\", \"agave green\": \"green\", \"deep cypress\": \"green\",\n",
    "    \n",
    "    # Orange family\n",
    "    \"orange\": \"orange\", \"sakhir orange\": \"orange\", \"kyalami orange\": \"orange\",\n",
    "    \n",
    "    # Yellow family\n",
    "    \"yellow\": \"yellow\", \"giallo taurus\": \"yellow\",\n",
    "    \n",
    "    # Other\n",
    "    \"gold\": \"gold\", \"silver\": \"silver\", \"platinum\": \"silver\",\n",
    "}"
   ]
  },
  {
   "cell_type": "code",
   "execution_count": 11,
   "metadata": {},
   "outputs": [],
   "source": [
    "def standardize_color(val):\n",
    "    val = normalize_color(val)\n",
    "    if val == \"unknown\":\n",
    "        return val\n",
    "    # split multi-colors\n",
    "    parts = [color_map.get(p.strip(), p.strip()) for p in val.split(\"/\")]\n",
    "    parts = sorted(set(parts))  # remove duplicates & sort\n",
    "    return \"/\".join(parts)\n",
    "\n",
    "df_train[\"int_col_clean\"] = df_train[\"int_col\"].apply(standardize_color)\n",
    "df_test[\"int_col_clean\"] = df_test[\"int_col\"].apply(standardize_color)"
   ]
  },
  {
   "cell_type": "code",
   "execution_count": 12,
   "metadata": {},
   "outputs": [],
   "source": [
    "# Adjust the values in the ext_col column \n",
    "def normalize_ext(val):\n",
    "    if pd.isna(val) or val.strip() in [\"–\", \"-\", \"\", \"c / c\"]:\n",
    "        return \"unknown\"\n",
    "    val = val.lower().strip()\n",
    "    # remove paint finish descriptors\n",
    "    val = re.sub(r'\\b(metallic|pearl|clearcoat|mica|tri[- ]?coat|effect|finish|matte|bright|chromaflair|premium|designo|manufaktur|prl|tinted)\\b', '', val)\n",
    "    val = re.sub(r'[^a-z\\s]', ' ', val)  # keep only letters/spaces\n",
    "    val = re.sub(r'\\s+', ' ', val)       # normalize spaces\n",
    "    return val.strip()"
   ]
  },
  {
   "cell_type": "code",
   "execution_count": 13,
   "metadata": {},
   "outputs": [],
   "source": [
    "def map_base_color(val):\n",
    "    if val == \"unknown\":\n",
    "        return \"unknown\"\n",
    "    \n",
    "    color_keywords = {\n",
    "        \"black\": [\"black\", \"nero\", \"onyx\", \"obsidian\", \"raven\", \"sapphire\", \"noir\", \"ebony\", \"vik\", \"beluga\"],\n",
    "        \"white\": [\"white\", \"bianco\", \"alpine\", \"ivory\", \"chalk\", \"balloon\"],\n",
    "        \"gray\": [\"gray\", \"grey\", \"graphite\", \"granite\", \"slate\", \"charcoal\", \"magnetite\", \"pewter\", \"quartzite\", \"stone\"],\n",
    "        \"silver\": [\"silver\", \"platinum\", \"titanium\", \"iridium\", \"satin\", \"liquid\", \"radiance\", \"sparkling\", \"mist\"],\n",
    "        \"red\": [\"red\", \"rosso\", \"ruby\", \"crimson\", \"garnet\", \"flame\", \"scarlet\", \"sangria\", \"maroon\", \"infrared\", \"matador\"],\n",
    "        \"blue\": [\"blue\", \"navarra\", \"aqua\", \"caspian\", \"pacific\", \"nautical\", \"midnight\", \"gentian\", \"twilight\", \"stormy\", \"lapis\", \"blu\", \"man\", \"sapphire\"],\n",
    "        \"green\": [\"green\", \"verde\", \"cypress\", \"emerald\", \"python\", \"jade\", \"moss\"],\n",
    "        \"brown\": [\"brown\", \"bronze\", \"mocha\", \"walnut\", \"brandy\", \"cocoa\", \"chestnut\", \"coffee\", \"mahogany\", \"auburn\"],\n",
    "        \"beige\": [\"beige\", \"sand\", \"camel\", \"tan\", \"dune\", \"almond\", \"ivory\"],\n",
    "        \"yellow\": [\"yellow\", \"golden\", \"silician\", \"hellayella\"],\n",
    "        \"orange\": [\"orange\", \"mango\", \"volcanic\", \"arancio\", \"cayenne\", \"tango\"],\n",
    "        \"purple\": [\"purple\", \"plum\", \"majestic\", \"ametrin\"],\n",
    "        \"pink\": [\"pink\"],\n",
    "        \"gold\": [\"gold\"],\n",
    "        \"custom\": [\"custom\", \"tempest\", \"designo\", \"aurora\", \"sunset\", \"magno\", \"kinetic\", \"lava\", \"volcano\", \"gecko\", \"python green\", \"lizard\"]\n",
    "    }\n",
    "    \n",
    "    for base, keywords in color_keywords.items():\n",
    "        if any(k in val for k in keywords):\n",
    "            return base\n",
    "    \n",
    "    return \"custom\""
   ]
  },
  {
   "cell_type": "code",
   "execution_count": 14,
   "metadata": {},
   "outputs": [],
   "source": [
    "df_train[\"ext_col_clean\"] = df_train[\"ext_col\"].apply(lambda x: map_base_color(normalize_ext(x)))\n",
    "df_test[\"ext_col_clean\"] = df_test[\"ext_col\"].apply(lambda x: map_base_color(normalize_ext(x)))"
   ]
  },
  {
   "cell_type": "code",
   "execution_count": 15,
   "metadata": {
    "_sphinx_cell_id": "19315b85-de11-4d2f-afe3-b56ea11c266b",
    "id": "8rekEAncfMio"
   },
   "outputs": [],
   "source": [
    "# Fill the missing values in the fuel_type column from the engine feature\n",
    "fuel_keywords = {\n",
    "    \"gasoline\": \"gasoline\",\n",
    "    \"diesel\": \"diesel\",\n",
    "    \"electric\": \"electric\",\n",
    "    \"hybrid\": \"hybrid\",\n",
    "    \"plug-in-hybrid\": \"plug-in-hybrid\",\n",
    "    \"e85\": \"e85 flex fuel\",\n",
    "    \"flex fuel\": \"e85 flex fuel\",\n",
    "    \"not supported\": \"not supported\",\n",
    "    \"-\": \"-\"\n",
    "}\n",
    "\n",
    "def extract_fuel(engine_text):\n",
    "    if pd.isna(engine_text):\n",
    "        return np.nan\n",
    "    text = str(engine_text).lower()\n",
    "    for keyword, fuel in fuel_keywords.items():\n",
    "        if keyword in text:\n",
    "            return fuel\n",
    "    return np.nan\n",
    "\n",
    "def fix_fuel_type(row):\n",
    "    if pd.isna(row[\"fuel_type\"]) or row[\"fuel_type\"] == \"-\":\n",
    "        if row[\"engine\"] == \"-\":\n",
    "            return \"-\"\n",
    "        extracted = extract_fuel(row[\"engine\"])\n",
    "        return extracted if extracted is not None else row[\"fuel_type\"]\n",
    "    return row[\"fuel_type\"]\n",
    "\n",
    "\n",
    "df_train['fuel_type'] = df_train.apply(fix_fuel_type, axis=1)\n",
    "df_test['fuel_type'] = df_test.apply(fix_fuel_type, axis=1)"
   ]
  },
  {
   "cell_type": "code",
   "execution_count": 16,
   "metadata": {
    "_sphinx_cell_id": "1eb9f5d2-cdd0-4338-a397-fe10c7a46440",
    "id": "RGpmNc9WfXp3"
   },
   "outputs": [],
   "source": [
    "def special_engine_fuel(engine_text):\n",
    "    if pd.isna(engine_text):\n",
    "        return np.nan\n",
    "\n",
    "    text = str(engine_text).lower().strip()\n",
    "\n",
    "    if 'battery'in text or \"ah\" in text:\n",
    "        return \"electric\"\n",
    "\n",
    "    return \"gasoline\"\n",
    "\n",
    "df_train.loc[df_train[\"fuel_type\"].isna(), \"fuel_type\"] = df_train.loc[df_train[\"fuel_type\"].isna(), \"engine\"].apply(special_engine_fuel)\n",
    "df_test.loc[df_test[\"fuel_type\"].isna(), \"fuel_type\"] = df_test.loc[df_test[\"fuel_type\"].isna(), \"engine\"].apply(special_engine_fuel)"
   ]
  },
  {
   "cell_type": "markdown",
   "metadata": {},
   "source": [
    "## ENCODING CATEGORICAL FEATURES"
   ]
  },
  {
   "cell_type": "code",
   "execution_count": 91,
   "metadata": {
    "_sphinx_cell_id": "cca736c3-95b0-492e-a566-a3034e53362e",
    "id": "dF5YFOo0frcO"
   },
   "outputs": [],
   "source": [
    "from sklearn.preprocessing import LabelEncoder\n",
    "\n",
    "def encode_cat_cols_label_enc(df_train, df_test):\n",
    "  encoded_train = df_train.copy()\n",
    "  encoded_test = df_test.copy()\n",
    "\n",
    "  cat_cols = ['brand', 'fuel_type', 'transmission', 'accident', 'clean_title', 'ext_col_clean']\n",
    "\n",
    "  enc = LabelEncoder()\n",
    "\n",
    "  for col in cat_cols:\n",
    "    encoded_train[col] = enc.fit_transform(encoded_train[col])\n",
    "    encoded_test[col] = enc.transform(encoded_test[col])\n",
    "\n",
    "  # Engine\n",
    "  full_data_column = pd.concat([encoded_train.engine, encoded_test.engine], axis=0)\n",
    "  full_data_column = enc.fit_transform(full_data_column)\n",
    "  encoded_train.engine = enc.transform(encoded_train.engine)\n",
    "  encoded_test.engine = enc.transform(encoded_test.engine)\n",
    "\n",
    "  # Model\n",
    "  full_data_column = pd.concat([encoded_train.model, encoded_test.model], axis=0)\n",
    "  full_data_column = enc.fit_transform(full_data_column)\n",
    "  encoded_train.model = enc.transform(encoded_train.model)\n",
    "  encoded_test.model = enc.transform(encoded_test.model)\n",
    "\n",
    "  # Transmission\n",
    "  full_data_column = pd.concat([encoded_train.transmission, encoded_test.transmission], axis=0)\n",
    "  full_data_column = enc.fit_transform(full_data_column)\n",
    "  encoded_train.transmission = enc.transform(encoded_train.transmission)\n",
    "  encoded_test.transmission = enc.transform(encoded_test.transmission)\n",
    "\n",
    "  # External COlour\n",
    "  full_data_column = pd.concat([encoded_train.ext_col_clean, encoded_test.ext_col_clean], axis=0)\n",
    "  full_data_column = enc.fit_transform(full_data_column)\n",
    "  encoded_train.ext_col_clean = enc.transform(encoded_train.ext_col_clean)\n",
    "  encoded_test.ext_col_clean = enc.transform(encoded_test.ext_col_clean)\n",
    "\n",
    "  # Internal COlour\n",
    "  full_data_column = pd.concat([encoded_train.int_col_clean, encoded_test.int_col_clean], axis=0)\n",
    "  full_data_column = enc.fit_transform(full_data_column)\n",
    "  encoded_train.int_col_clean = enc.transform(encoded_train.int_col_clean)\n",
    "  encoded_test.int_col_clean = enc.transform(encoded_test.int_col_clean)\n",
    "\n",
    "  return encoded_train, encoded_test"
   ]
  },
  {
   "cell_type": "code",
   "execution_count": 92,
   "metadata": {
    "_sphinx_cell_id": "373e777d-bb5e-4029-a296-96d5439b98e9",
    "id": "DLQi-ok3hkHO"
   },
   "outputs": [],
   "source": [
    "encoded_train, encoded_test = encode_cat_cols_label_enc(df_train, df_test)"
   ]
  },
  {
   "cell_type": "markdown",
   "metadata": {},
   "source": [
    "## Training the Models"
   ]
  },
  {
   "cell_type": "code",
   "execution_count": 93,
   "metadata": {
    "_sphinx_cell_id": "a8d4ccb2-6cd5-4423-bd8f-0dae7e733ac3",
    "id": "ZxDCbZ83hsn0"
   },
   "outputs": [],
   "source": [
    "X = encoded_train.drop(['price', 'id','ext_col', 'int_col'], axis=1)\n",
    "y = np.expm1(encoded_train['price'])"
   ]
  },
  {
   "cell_type": "code",
   "execution_count": 94,
   "metadata": {
    "_sphinx_cell_id": "31c948d1-e8e4-40a9-a908-d36ebacb14e1",
    "id": "U27tIzc_jLOb"
   },
   "outputs": [],
   "source": [
    "from sklearn.model_selection import train_test_split\n",
    "\n",
    "X_train, X_val, y_train, y_val = train_test_split(X, y, test_size=0.2, random_state=42)"
   ]
  },
  {
   "cell_type": "code",
   "execution_count": 78,
   "metadata": {
    "_sphinx_cell_id": "b271711f-411f-48e6-8589-1c0a4c5525d5",
    "id": "LRCWDKxikbPj"
   },
   "outputs": [],
   "source": [
    "from sklearn.metrics import mean_squared_error\n",
    "\n",
    "def rmse(y_val, y_pred):\n",
    "  return np.sqrt(mean_squared_error(y_val, y_pred))\n",
    "\n",
    "def predict(model):\n",
    "    model.fit(X_train, y_train)\n",
    "    y_pred = model.predict(X_val)\n",
    "\n",
    "    y_val_expm = np.expm1(y_val)\n",
    "    y_pred_expm = np.expm1(y_pred)\n",
    "    \n",
    "    print('RMSE:', rmse(y_val_expm, y_pred_expm))"
   ]
  },
  {
   "cell_type": "code",
   "execution_count": 29,
   "metadata": {
    "_sphinx_cell_id": "1a154f1c-0e35-4950-ace5-07612c375b62",
    "id": "962lT9FfnAjB"
   },
   "outputs": [],
   "source": [
    "from sklearn.linear_model import LinearRegression\n",
    "from sklearn.ensemble import RandomForestRegressor\n",
    "import xgboost as xgb\n",
    "import lightgbm as lgb\n",
    "import catboost as cat"
   ]
  },
  {
   "cell_type": "code",
   "execution_count": 79,
   "metadata": {
    "_sphinx_cell_id": "b9990dfa-f1c2-4016-91c8-69a4046c5189",
    "colab": {
     "base_uri": "https://localhost:8080/"
    },
    "id": "AbNOPaJdnTNP",
    "outputId": "6eadf96d-49d2-4ae9-c612-1ece65a858e6"
   },
   "outputs": [
    {
     "name": "stdout",
     "output_type": "stream",
     "text": [
      "RMSE: 70365.52338445975\n"
     ]
    }
   ],
   "source": [
    "predict(LinearRegression())"
   ]
  },
  {
   "cell_type": "code",
   "execution_count": 31,
   "metadata": {
    "_sphinx_cell_id": "6fa61380-bf33-403e-8d82-3a164006e0c3",
    "colab": {
     "base_uri": "https://localhost:8080/"
    },
    "id": "d8PocN9rne2Y",
    "outputId": "1962c858-421e-412d-e16e-7fc271b8a927"
   },
   "outputs": [
    {
     "name": "stdout",
     "output_type": "stream",
     "text": [
      "RMSE: 0.5106428678839114\n"
     ]
    }
   ],
   "source": [
    "predict(RandomForestRegressor(random_state=10))"
   ]
  },
  {
   "cell_type": "code",
   "execution_count": 80,
   "metadata": {
    "_sphinx_cell_id": "7d2a183e-383e-4fea-826c-a9a72008cc2e",
    "colab": {
     "base_uri": "https://localhost:8080/"
    },
    "id": "ve5UO8GlnmCY",
    "outputId": "ee0e627d-2e5f-45b7-f780-534a23082b01"
   },
   "outputs": [
    {
     "name": "stdout",
     "output_type": "stream",
     "text": [
      "RMSE: 68571.28733506096\n"
     ]
    }
   ],
   "source": [
    "predict(xgb.XGBRegressor())"
   ]
  },
  {
   "cell_type": "code",
   "execution_count": 81,
   "metadata": {
    "_sphinx_cell_id": "7f2c58ca-401b-4878-ba73-117febd125b5",
    "colab": {
     "base_uri": "https://localhost:8080/"
    },
    "id": "wgI4ICK8pA-O",
    "outputId": "64c47ac2-4a5a-44b5-baff-199fe50b306c"
   },
   "outputs": [
    {
     "name": "stdout",
     "output_type": "stream",
     "text": [
      "RMSE: 68812.41772052948\n"
     ]
    }
   ],
   "source": [
    "predict(lgb.LGBMRegressor())"
   ]
  },
  {
   "cell_type": "code",
   "execution_count": 82,
   "metadata": {
    "_sphinx_cell_id": "a6fc1ead-f6fd-4d23-9f23-359eee9b0682",
    "colab": {
     "base_uri": "https://localhost:8080/"
    },
    "id": "X6JvSAHapFQH",
    "outputId": "9ed7efcc-4fd3-4b1d-de54-323029ff87e0"
   },
   "outputs": [
    {
     "name": "stdout",
     "output_type": "stream",
     "text": [
      "RMSE: 68655.76449425616\n"
     ]
    }
   ],
   "source": [
    "predict(cat.CatBoostRegressor(verbose=0))"
   ]
  },
  {
   "cell_type": "code",
   "execution_count": 71,
   "metadata": {
    "_sphinx_cell_id": "8dbdd9ca-d4ea-46dc-8fba-accb42922a49",
    "colab": {
     "base_uri": "https://localhost:8080/"
    },
    "id": "0yNPseJwpK6_",
    "outputId": "1bc2849c-3088-4fbd-e4b0-a2d12ae26917"
   },
   "outputs": [
    {
     "data": {
      "text/plain": [
       "<catboost.core.CatBoostRegressor at 0x20707837a50>"
      ]
     },
     "execution_count": 71,
     "metadata": {},
     "output_type": "execute_result"
    }
   ],
   "source": [
    "cat_model = cat.CatBoostRegressor(verbose=0)\n",
    "cat_model.fit(X, y)"
   ]
  },
  {
   "cell_type": "code",
   "execution_count": 56,
   "metadata": {
    "_sphinx_cell_id": "df43d26b-4d79-4a04-b10e-e7167d720d7d",
    "id": "ChvIqY-fpd2-"
   },
   "outputs": [],
   "source": [
    "test = encoded_test.drop(['id','ext_col', 'int_col'], axis=1)"
   ]
  },
  {
   "cell_type": "code",
   "execution_count": 72,
   "metadata": {
    "_sphinx_cell_id": "40b7aaf8-002d-4588-b1fc-a8677a81e24c",
    "id": "7TqDbCiTppHm"
   },
   "outputs": [],
   "source": [
    "test_pred_cat = cat_model.predict(test)"
   ]
  },
  {
   "cell_type": "code",
   "execution_count": 52,
   "metadata": {
    "_sphinx_cell_id": "09ec7620-2d0c-4d61-b504-9c6fda199802",
    "colab": {
     "base_uri": "https://localhost:8080/",
     "height": 339
    },
    "id": "xKeBVbi6pwRW",
    "outputId": "611c8eaf-d420-488e-b298-e09af4618657"
   },
   "outputs": [],
   "source": [
    "sample_sub.price = test_pred\n",
    "\n",
    "sample_sub.to_csv('1st_submission.csv', index=False)"
   ]
  },
  {
   "cell_type": "code",
   "execution_count": 73,
   "metadata": {
    "_sphinx_cell_id": "c06b4b2b-c0d8-431d-aa84-4cbf747acf7a",
    "colab": {
     "background_save": true
    },
    "id": "AC6UV8mWrrY7"
   },
   "outputs": [],
   "source": [
    "lgb_model = lgb.LGBMRegressor(verbose=0)\n",
    "lgb_model.fit(X, y)\n",
    "test_pred = lgb_model.predict(test)"
   ]
  },
  {
   "cell_type": "code",
   "execution_count": 75,
   "metadata": {
    "_sphinx_cell_id": "5a42837d-30d6-4f56-a29e-11c49e3af1ce",
    "colab": {
     "background_save": true
    },
    "id": "jKHn_xR4r9HE"
   },
   "outputs": [],
   "source": [
    "submission = pd.DataFrame({\n",
    "    'id': encoded_test.id,\n",
    "    'price': blend_preds\n",
    "})\n",
    "\n",
    "submission.to_csv('2nd_submission.csv', index=False)"
   ]
  },
  {
   "cell_type": "code",
   "execution_count": 97,
   "metadata": {},
   "outputs": [
    {
     "name": "stderr",
     "output_type": "stream",
     "text": [
      "[I 2025-09-13 01:09:00,872] A new study created in memory with name: no-name-db40c236-8271-4435-9b17-b9c5d8b1ae7a\n",
      "[I 2025-09-13 01:09:10,196] Trial 0 finished with value: 68070.75959194952 and parameters: {'learning_rate': 0.04707841055578052, 'depth': 8, 'l2_leaf_reg': 8.38925873815768, 'bagging_temperature': 8.069365172069734, 'random_strength': 6.590240955690545, 'border_count': 204}. Best is trial 0 with value: 68070.75959194952.\n",
      "[I 2025-09-13 01:09:26,812] Trial 1 finished with value: 68191.86433902063 and parameters: {'learning_rate': 0.01177795709225934, 'depth': 5, 'l2_leaf_reg': 0.0011730888046148898, 'bagging_temperature': 9.389788345251258, 'random_strength': 4.191856199575616, 'border_count': 32}. Best is trial 0 with value: 68070.75959194952.\n",
      "[I 2025-09-13 01:10:30,008] Trial 2 finished with value: 67980.46204946085 and parameters: {'learning_rate': 0.005174543172495284, 'depth': 7, 'l2_leaf_reg': 1.9352329988907324, 'bagging_temperature': 1.368781246966756, 'random_strength': 7.471178252640814, 'border_count': 178}. Best is trial 2 with value: 67980.46204946085.\n",
      "[I 2025-09-13 01:10:43,660] Trial 3 finished with value: 67939.56928014156 and parameters: {'learning_rate': 0.04807453493927549, 'depth': 10, 'l2_leaf_reg': 0.9512727742313094, 'bagging_temperature': 8.587717945599552, 'random_strength': 2.709435505864215, 'border_count': 200}. Best is trial 3 with value: 67939.56928014156.\n",
      "[I 2025-09-13 01:11:02,887] Trial 4 finished with value: 68048.67134563255 and parameters: {'learning_rate': 0.016599677501411343, 'depth': 4, 'l2_leaf_reg': 0.003721587877781079, 'bagging_temperature': 0.4964090254333642, 'random_strength': 3.562809819159062, 'border_count': 189}. Best is trial 3 with value: 67939.56928014156.\n",
      "[I 2025-09-13 01:11:11,589] Trial 5 finished with value: 68176.40056953275 and parameters: {'learning_rate': 0.031879251182641094, 'depth': 5, 'l2_leaf_reg': 0.47414928743638934, 'bagging_temperature': 9.523104638608634, 'random_strength': 1.656672174039121, 'border_count': 83}. Best is trial 3 with value: 67939.56928014156.\n",
      "[I 2025-09-13 01:11:16,155] Trial 6 finished with value: 68074.47703585812 and parameters: {'learning_rate': 0.1570281025736265, 'depth': 7, 'l2_leaf_reg': 3.2436196101768378, 'bagging_temperature': 7.3195351003990545, 'random_strength': 7.041162236168192, 'border_count': 86}. Best is trial 3 with value: 67939.56928014156.\n",
      "[I 2025-09-13 01:11:41,848] Trial 7 finished with value: 68140.05421922426 and parameters: {'learning_rate': 0.01000082770094096, 'depth': 8, 'l2_leaf_reg': 0.0012627960453926363, 'bagging_temperature': 3.2546733888059878, 'random_strength': 5.2228413896424914, 'border_count': 41}. Best is trial 3 with value: 67939.56928014156.\n",
      "[I 2025-09-13 01:13:41,476] Trial 8 finished with value: 67998.91712459533 and parameters: {'learning_rate': 0.005168651174887617, 'depth': 10, 'l2_leaf_reg': 0.025583447209071686, 'bagging_temperature': 1.1703297972036553, 'random_strength': 9.817159681880312, 'border_count': 253}. Best is trial 3 with value: 67939.56928014156.\n",
      "[I 2025-09-13 01:14:00,192] Trial 9 finished with value: 68106.06371485429 and parameters: {'learning_rate': 0.02163937203815645, 'depth': 8, 'l2_leaf_reg': 0.07988545595997451, 'bagging_temperature': 4.975395263552373, 'random_strength': 2.631297179661857, 'border_count': 124}. Best is trial 3 with value: 67939.56928014156.\n",
      "[I 2025-09-13 01:17:59,222] Trial 10 finished with value: 67947.6320936987 and parameters: {'learning_rate': 0.0013965892472115897, 'depth': 10, 'l2_leaf_reg': 0.44411331769781587, 'bagging_temperature': 6.123370819007025, 'random_strength': 0.4701544573533094, 'border_count': 251}. Best is trial 3 with value: 67939.56928014156.\n",
      "[I 2025-09-13 01:22:09,953] Trial 11 finished with value: 67908.26736854267 and parameters: {'learning_rate': 0.0013094592472072048, 'depth': 10, 'l2_leaf_reg': 0.3869387698970273, 'bagging_temperature': 6.200046659378107, 'random_strength': 0.33898264859684435, 'border_count': 248}. Best is trial 11 with value: 67908.26736854267.\n",
      "[I 2025-09-13 01:22:18,055] Trial 12 finished with value: 68350.60326472193 and parameters: {'learning_rate': 0.1203734806968037, 'depth': 10, 'l2_leaf_reg': 0.29968266470950855, 'bagging_temperature': 5.801880581204471, 'random_strength': 0.1325463624524982, 'border_count': 223}. Best is trial 11 with value: 67908.26736854267.\n",
      "[I 2025-09-13 01:25:39,358] Trial 13 finished with value: 68049.67115694568 and parameters: {'learning_rate': 0.0010718427718916553, 'depth': 9, 'l2_leaf_reg': 0.07187869904377626, 'bagging_temperature': 7.72831730174301, 'random_strength': 1.813389626259021, 'border_count': 153}. Best is trial 11 with value: 67908.26736854267.\n",
      "[I 2025-09-13 01:25:47,875] Trial 14 finished with value: 68001.83656770742 and parameters: {'learning_rate': 0.054030952704851955, 'depth': 9, 'l2_leaf_reg': 1.242334611186579, 'bagging_temperature': 3.954685216741347, 'random_strength': 1.4831075606464657, 'border_count': 219}. Best is trial 11 with value: 67908.26736854267.\n",
      "[I 2025-09-13 01:27:44,245] Trial 15 finished with value: 68021.81415653143 and parameters: {'learning_rate': 0.0026015974462800006, 'depth': 9, 'l2_leaf_reg': 0.021692691083778637, 'bagging_temperature': 6.980892419361228, 'random_strength': 3.3303501270521823, 'border_count': 158}. Best is trial 11 with value: 67908.26736854267.\n",
      "[I 2025-09-13 01:27:46,878] Trial 16 finished with value: 68397.51154843188 and parameters: {'learning_rate': 0.2814360323337129, 'depth': 6, 'l2_leaf_reg': 0.16328267827491535, 'bagging_temperature': 8.992486096190227, 'random_strength': 5.084004086218192, 'border_count': 229}. Best is trial 11 with value: 67908.26736854267.\n",
      "[I 2025-09-13 01:27:54,688] Trial 17 finished with value: 68091.01137559651 and parameters: {'learning_rate': 0.07647691810438369, 'depth': 10, 'l2_leaf_reg': 0.8883526801298813, 'bagging_temperature': 3.7787299402501406, 'random_strength': 0.8858841410876838, 'border_count': 189}. Best is trial 11 with value: 67908.26736854267.\n",
      "[I 2025-09-13 01:28:54,978] Trial 18 finished with value: 67987.75154970399 and parameters: {'learning_rate': 0.005658039684126798, 'depth': 9, 'l2_leaf_reg': 4.705880257361988, 'bagging_temperature': 8.445985207513973, 'random_strength': 2.609247425468517, 'border_count': 117}. Best is trial 11 with value: 67908.26736854267.\n",
      "[I 2025-09-13 01:31:05,467] Trial 19 finished with value: 67781.01012427881 and parameters: {'learning_rate': 0.002314384284150784, 'depth': 8, 'l2_leaf_reg': 0.0281574665728361, 'bagging_temperature': 6.433124789126834, 'random_strength': 2.4555776411719914, 'border_count': 238}. Best is trial 19 with value: 67781.01012427881.\n",
      "[I 2025-09-13 01:32:24,544] Trial 20 finished with value: 68057.104889737 and parameters: {'learning_rate': 0.00228334078621397, 'depth': 6, 'l2_leaf_reg': 0.01764357617910598, 'bagging_temperature': 4.8872141543409455, 'random_strength': 1.0591168068373458, 'border_count': 234}. Best is trial 19 with value: 67781.01012427881.\n",
      "[I 2025-09-13 01:34:23,024] Trial 21 finished with value: 68061.338166884 and parameters: {'learning_rate': 0.0022537133400096655, 'depth': 9, 'l2_leaf_reg': 0.19139493972120294, 'bagging_temperature': 6.246801059731043, 'random_strength': 2.4786024213767277, 'border_count': 207}. Best is trial 19 with value: 67781.01012427881.\n",
      "[I 2025-09-13 01:36:52,282] Trial 22 finished with value: 68015.1982882335 and parameters: {'learning_rate': 0.0034249974543687826, 'depth': 10, 'l2_leaf_reg': 0.006076157921356171, 'bagging_temperature': 6.944723562860241, 'random_strength': 4.2090202619841515, 'border_count': 245}. Best is trial 19 with value: 67781.01012427881.\n",
      "[I 2025-09-13 01:39:50,861] Trial 23 finished with value: 68126.13277768163 and parameters: {'learning_rate': 0.0010369722398555024, 'depth': 8, 'l2_leaf_reg': 0.05127710742635562, 'bagging_temperature': 9.891802708903654, 'random_strength': 2.148276508816706, 'border_count': 211}. Best is trial 19 with value: 67781.01012427881.\n",
      "[I 2025-09-13 01:41:49,463] Trial 24 finished with value: 67991.42408283151 and parameters: {'learning_rate': 0.0014895243371409294, 'depth': 7, 'l2_leaf_reg': 0.9319594353974134, 'bagging_temperature': 8.512442668309589, 'random_strength': 0.19283995943584367, 'border_count': 233}. Best is trial 19 with value: 67781.01012427881.\n",
      "[I 2025-09-13 01:42:28,610] Trial 25 finished with value: 67990.64963458116 and parameters: {'learning_rate': 0.009334536602599381, 'depth': 9, 'l2_leaf_reg': 0.0065384750057020935, 'bagging_temperature': 5.315050285711056, 'random_strength': 3.3748833736323327, 'border_count': 177}. Best is trial 19 with value: 67781.01012427881.\n",
      "[I 2025-09-13 01:42:55,348] Trial 26 finished with value: 67972.63434741489 and parameters: {'learning_rate': 0.02782053603998306, 'depth': 10, 'l2_leaf_reg': 0.17151525909279164, 'bagging_temperature': 6.614211420606219, 'random_strength': 6.040917100263213, 'border_count': 255}. Best is trial 19 with value: 67781.01012427881.\n",
      "[I 2025-09-13 01:45:14,232] Trial 27 finished with value: 67969.01709353067 and parameters: {'learning_rate': 0.0016367525120648643, 'depth': 8, 'l2_leaf_reg': 0.033673022965385414, 'bagging_temperature': 7.65266080601331, 'random_strength': 1.048163452316502, 'border_count': 197}. Best is trial 19 with value: 67781.01012427881.\n",
      "[I 2025-09-13 01:46:31,257] Trial 28 finished with value: 68031.87496896503 and parameters: {'learning_rate': 0.0033686690407815655, 'depth': 6, 'l2_leaf_reg': 2.1460281067373255, 'bagging_temperature': 2.4280479142374056, 'random_strength': 8.31236552485287, 'border_count': 170}. Best is trial 19 with value: 67781.01012427881.\n",
      "[I 2025-09-13 01:46:39,583] Trial 29 finished with value: 68079.8685982482 and parameters: {'learning_rate': 0.05513966771911003, 'depth': 8, 'l2_leaf_reg': 8.981377707536176, 'bagging_temperature': 8.056779715990293, 'random_strength': 4.343633357112318, 'border_count': 205}. Best is trial 19 with value: 67781.01012427881.\n",
      "[I 2025-09-13 01:46:46,360] Trial 30 finished with value: 67776.71911540606 and parameters: {'learning_rate': 0.09732350788415552, 'depth': 9, 'l2_leaf_reg': 0.5108931359853705, 'bagging_temperature': 4.612039765244567, 'random_strength': 5.863935431445729, 'border_count': 241}. Best is trial 30 with value: 67776.71911540606.\n",
      "[I 2025-09-13 01:46:53,318] Trial 31 finished with value: 67934.68103869402 and parameters: {'learning_rate': 0.10228617416835412, 'depth': 9, 'l2_leaf_reg': 0.43372980346255324, 'bagging_temperature': 4.39697370757383, 'random_strength': 6.009607328000035, 'border_count': 236}. Best is trial 30 with value: 67776.71911540606.\n",
      "[I 2025-09-13 01:46:58,023] Trial 32 finished with value: 68151.18874463742 and parameters: {'learning_rate': 0.12420450947769926, 'depth': 9, 'l2_leaf_reg': 0.44075754330157574, 'bagging_temperature': 4.2528594372389374, 'random_strength': 5.9986948060000325, 'border_count': 240}. Best is trial 30 with value: 67776.71911540606.\n",
      "[I 2025-09-13 01:47:01,448] Trial 33 finished with value: 68564.50363822626 and parameters: {'learning_rate': 0.2647003172548941, 'depth': 9, 'l2_leaf_reg': 0.30048646393458533, 'bagging_temperature': 5.323227505094517, 'random_strength': 7.880203557859233, 'border_count': 219}. Best is trial 30 with value: 67776.71911540606.\n",
      "[I 2025-09-13 01:47:05,321] Trial 34 finished with value: 68460.35921900954 and parameters: {'learning_rate': 0.19119106823303392, 'depth': 8, 'l2_leaf_reg': 0.14996867468537484, 'bagging_temperature': 2.934885814680575, 'random_strength': 6.062826987867279, 'border_count': 239}. Best is trial 30 with value: 67776.71911540606.\n",
      "[I 2025-09-13 01:47:12,046] Trial 35 finished with value: 67794.27740490065 and parameters: {'learning_rate': 0.08224884443125462, 'depth': 8, 'l2_leaf_reg': 0.01101664670666193, 'bagging_temperature': 4.475143118127608, 'random_strength': 6.766061426584429, 'border_count': 223}. Best is trial 30 with value: 67776.71911540606.\n",
      "[I 2025-09-13 01:47:18,778] Trial 36 finished with value: 68237.39063058188 and parameters: {'learning_rate': 0.07796844943395306, 'depth': 7, 'l2_leaf_reg': 0.010848957224841678, 'bagging_temperature': 5.712474207397769, 'random_strength': 6.721457014405956, 'border_count': 220}. Best is trial 30 with value: 67776.71911540606.\n",
      "[I 2025-09-13 01:47:28,492] Trial 37 finished with value: 68038.96034855802 and parameters: {'learning_rate': 0.035955999468647415, 'depth': 7, 'l2_leaf_reg': 0.011359261797015827, 'bagging_temperature': 2.460274944877268, 'random_strength': 8.144244698761954, 'border_count': 190}. Best is trial 30 with value: 67776.71911540606.\n",
      "[I 2025-09-13 01:48:08,949] Trial 38 finished with value: 67900.39028164562 and parameters: {'learning_rate': 0.006900876867876353, 'depth': 7, 'l2_leaf_reg': 0.0033535491392287344, 'bagging_temperature': 4.6007448912461735, 'random_strength': 4.722521744378356, 'border_count': 246}. Best is trial 30 with value: 67776.71911540606.\n",
      "[I 2025-09-13 01:48:31,788] Trial 39 finished with value: 67702.48118583107 and parameters: {'learning_rate': 0.014408106191708634, 'depth': 7, 'l2_leaf_reg': 0.0027483130731321987, 'bagging_temperature': 3.379120060504191, 'random_strength': 8.936584249767625, 'border_count': 211}. Best is trial 39 with value: 67702.48118583107.\n",
      "[I 2025-09-13 01:48:59,498] Trial 40 finished with value: 67829.87497598876 and parameters: {'learning_rate': 0.013404760546149619, 'depth': 8, 'l2_leaf_reg': 0.0018267997518740973, 'bagging_temperature': 3.7245319194698006, 'random_strength': 9.102753441928867, 'border_count': 213}. Best is trial 39 with value: 67702.48118583107.\n",
      "[I 2025-09-13 01:49:22,092] Trial 41 finished with value: 67874.86018484422 and parameters: {'learning_rate': 0.01569497253606092, 'depth': 8, 'l2_leaf_reg': 0.0016825114402777108, 'bagging_temperature': 3.4495117973111205, 'random_strength': 9.153617676845963, 'border_count': 210}. Best is trial 39 with value: 67702.48118583107.\n",
      "[I 2025-09-13 01:49:46,272] Trial 42 finished with value: 67952.52922031013 and parameters: {'learning_rate': 0.014076389744667555, 'depth': 8, 'l2_leaf_reg': 0.002326852600635268, 'bagging_temperature': 2.551171706718245, 'random_strength': 9.256579577667978, 'border_count': 226}. Best is trial 39 with value: 67702.48118583107.\n",
      "[I 2025-09-13 01:50:00,044] Trial 43 finished with value: 68092.4453118503 and parameters: {'learning_rate': 0.021344912685283244, 'depth': 6, 'l2_leaf_reg': 0.0010345153300398715, 'bagging_temperature': 1.9383589471660811, 'random_strength': 7.520913060165856, 'border_count': 196}. Best is trial 39 with value: 67702.48118583107.\n",
      "[I 2025-09-13 01:50:09,639] Trial 44 finished with value: 68115.71667815375 and parameters: {'learning_rate': 0.03960853395094025, 'depth': 8, 'l2_leaf_reg': 0.004981095059540699, 'bagging_temperature': 3.1803689660006924, 'random_strength': 8.668808592625789, 'border_count': 130}. Best is trial 39 with value: 67702.48118583107.\n",
      "[I 2025-09-13 01:50:39,579] Trial 45 finished with value: 68011.79044285967 and parameters: {'learning_rate': 0.010099082697896639, 'depth': 7, 'l2_leaf_reg': 0.01118698972708329, 'bagging_temperature': 3.8109565912054397, 'random_strength': 7.135496654512327, 'border_count': 176}. Best is trial 39 with value: 67702.48118583107.\n",
      "[I 2025-09-13 01:50:53,067] Trial 46 finished with value: 68202.14680703133 and parameters: {'learning_rate': 0.025652735677632644, 'depth': 4, 'l2_leaf_reg': 0.002436814125850837, 'bagging_temperature': 1.6784553723451041, 'random_strength': 9.876298310971436, 'border_count': 52}. Best is trial 39 with value: 67702.48118583107.\n",
      "[I 2025-09-13 01:51:33,126] Trial 47 finished with value: 67883.2261331755 and parameters: {'learning_rate': 0.007546420788534916, 'depth': 7, 'l2_leaf_reg': 0.04158433620407294, 'bagging_temperature': 5.329043779434666, 'random_strength': 5.548478487969477, 'border_count': 211}. Best is trial 39 with value: 67702.48118583107.\n",
      "[I 2025-09-13 01:51:40,244] Trial 48 finished with value: 68095.50268828617 and parameters: {'learning_rate': 0.06600043502828068, 'depth': 8, 'l2_leaf_reg': 0.001710890377579747, 'bagging_temperature': 0.6532943677218546, 'random_strength': 9.20279478410685, 'border_count': 218}. Best is trial 39 with value: 67702.48118583107.\n",
      "[I 2025-09-13 01:52:05,228] Trial 49 finished with value: 68132.8556354806 and parameters: {'learning_rate': 0.012773947837147873, 'depth': 8, 'l2_leaf_reg': 0.004264167840913383, 'bagging_temperature': 4.16125031929299, 'random_strength': 8.695328619113418, 'border_count': 103}. Best is trial 39 with value: 67702.48118583107.\n"
     ]
    },
    {
     "name": "stdout",
     "output_type": "stream",
     "text": [
      "Best CatBoost params: {'learning_rate': 0.014408106191708634, 'depth': 7, 'l2_leaf_reg': 0.0027483130731321987, 'bagging_temperature': 3.379120060504191, 'random_strength': 8.936584249767625, 'border_count': 211}\n",
      "Best CatBoost RMSE: 67702.48118583107\n"
     ]
    }
   ],
   "source": [
    "# Hyperparameter Tuning for Catboost Model\n",
    "import optuna\n",
    "from catboost import CatBoostRegressor\n",
    "from sklearn.metrics import mean_squared_error\n",
    "from sklearn.model_selection import train_test_split\n",
    "\n",
    "def objective_cat(trial):\n",
    "    params = {\n",
    "        \"loss_function\": \"RMSE\",\n",
    "        \"iterations\": 10000,\n",
    "        \"learning_rate\": trial.suggest_float(\"learning_rate\", 1e-3, 0.3, log=True),\n",
    "        \"depth\": trial.suggest_int(\"depth\", 4, 10),\n",
    "        \"l2_leaf_reg\": trial.suggest_float(\"l2_leaf_reg\", 1e-3, 10.0, log=True),\n",
    "        \"bagging_temperature\": trial.suggest_float(\"bagging_temperature\", 0.0, 10.0),\n",
    "        \"random_strength\": trial.suggest_float(\"random_strength\", 0.0, 10.0),\n",
    "        \"border_count\": trial.suggest_int(\"border_count\", 32, 255),\n",
    "        \"verbose\": 0,\n",
    "        \"early_stopping_rounds\": 100,\n",
    "    }\n",
    "\n",
    "    # Train/Val split\n",
    "    X_train, X_val, y_train, y_val = train_test_split(X, y, test_size=0.2, random_state=42)\n",
    "\n",
    "    model = CatBoostRegressor(**params)\n",
    "    model.fit(X_train, y_train, eval_set=(X_val, y_val), verbose=0)\n",
    "\n",
    "    preds = model.predict(X_val)\n",
    "    rmse = np.sqrt(mean_squared_error(y_val, preds))  # RMSE in original space\n",
    "    return rmse\n",
    "\n",
    "# Run Optuna\n",
    "study_cat = optuna.create_study(direction=\"minimize\")\n",
    "study_cat.optimize(objective_cat, n_trials=50)\n",
    "print(\"Best CatBoost params:\", study_cat.best_trial.params)\n",
    "print(\"Best CatBoost RMSE:\", study_cat.best_value)"
   ]
  },
  {
   "cell_type": "code",
   "execution_count": 99,
   "metadata": {},
   "outputs": [
    {
     "name": "stderr",
     "output_type": "stream",
     "text": [
      "[I 2025-09-13 01:57:33,034] A new study created in memory with name: no-name-5e3034a2-9b57-4593-9569-9cad5b74e7da\n"
     ]
    },
    {
     "name": "stdout",
     "output_type": "stream",
     "text": [
      "Training until validation scores don't improve for 100 rounds\n",
      "Early stopping, best iteration is:\n",
      "[394]\tvalid_0's rmse: 67996.8\n"
     ]
    },
    {
     "name": "stderr",
     "output_type": "stream",
     "text": [
      "[I 2025-09-13 01:57:50,738] Trial 0 finished with value: 67996.81980071591 and parameters: {'learning_rate': 0.009382148825346564, 'num_leaves': 1555, 'max_depth': 15, 'min_child_samples': 65, 'subsample': 0.960432342011022, 'colsample_bytree': 0.6531117226304464, 'reg_alpha': 0.004228809113470643, 'reg_lambda': 0.004323083794624754}. Best is trial 0 with value: 67996.81980071591.\n"
     ]
    },
    {
     "name": "stdout",
     "output_type": "stream",
     "text": [
      "Training until validation scores don't improve for 100 rounds\n",
      "Early stopping, best iteration is:\n",
      "[512]\tvalid_0's rmse: 67975.5\n"
     ]
    },
    {
     "name": "stderr",
     "output_type": "stream",
     "text": [
      "[I 2025-09-13 01:58:05,489] Trial 1 finished with value: 67975.53429034483 and parameters: {'learning_rate': 0.009045508314131227, 'num_leaves': 2749, 'max_depth': 13, 'min_child_samples': 93, 'subsample': 0.8202827476560348, 'colsample_bytree': 0.7609071935638967, 'reg_alpha': 4.547024798161937e-07, 'reg_lambda': 5.099447908664336e-08}. Best is trial 1 with value: 67975.53429034483.\n"
     ]
    },
    {
     "name": "stdout",
     "output_type": "stream",
     "text": [
      "Training until validation scores don't improve for 100 rounds\n",
      "Early stopping, best iteration is:\n",
      "[8253]\tvalid_0's rmse: 67777.6\n"
     ]
    },
    {
     "name": "stderr",
     "output_type": "stream",
     "text": [
      "[I 2025-09-13 01:58:53,778] Trial 2 finished with value: 67777.64769769466 and parameters: {'learning_rate': 0.0014235706004543309, 'num_leaves': 389, 'max_depth': 6, 'min_child_samples': 60, 'subsample': 0.6424391472902236, 'colsample_bytree': 0.5923385790948519, 'reg_alpha': 4.554820060510287e-08, 'reg_lambda': 1.5078529895299917}. Best is trial 2 with value: 67777.64769769466.\n"
     ]
    },
    {
     "name": "stdout",
     "output_type": "stream",
     "text": [
      "Training until validation scores don't improve for 100 rounds\n",
      "Early stopping, best iteration is:\n",
      "[863]\tvalid_0's rmse: 68080.8\n"
     ]
    },
    {
     "name": "stderr",
     "output_type": "stream",
     "text": [
      "[I 2025-09-13 01:59:14,502] Trial 3 finished with value: 68080.83650023676 and parameters: {'learning_rate': 0.006554903022299295, 'num_leaves': 1842, 'max_depth': 13, 'min_child_samples': 99, 'subsample': 0.6169078810251392, 'colsample_bytree': 0.9854066527312543, 'reg_alpha': 0.0014280731852082107, 'reg_lambda': 0.00978990870351176}. Best is trial 2 with value: 67777.64769769466.\n"
     ]
    },
    {
     "name": "stdout",
     "output_type": "stream",
     "text": [
      "Training until validation scores don't improve for 100 rounds\n"
     ]
    },
    {
     "name": "stderr",
     "output_type": "stream",
     "text": [
      "[I 2025-09-13 01:59:17,260] Trial 4 finished with value: 68788.17294596216 and parameters: {'learning_rate': 0.17108069494623737, 'num_leaves': 2899, 'max_depth': 15, 'min_child_samples': 25, 'subsample': 0.8589597787848071, 'colsample_bytree': 0.9616312937825864, 'reg_alpha': 0.008165996581764624, 'reg_lambda': 4.8475015355914057e-08}. Best is trial 2 with value: 67777.64769769466.\n"
     ]
    },
    {
     "name": "stdout",
     "output_type": "stream",
     "text": [
      "Early stopping, best iteration is:\n",
      "[10]\tvalid_0's rmse: 68788.2\n",
      "Training until validation scores don't improve for 100 rounds\n"
     ]
    },
    {
     "name": "stderr",
     "output_type": "stream",
     "text": [
      "[I 2025-09-13 01:59:21,133] Trial 5 finished with value: 68363.23111187018 and parameters: {'learning_rate': 0.08780088050839861, 'num_leaves': 2883, 'max_depth': 15, 'min_child_samples': 33, 'subsample': 0.8364257079500146, 'colsample_bytree': 0.8515931766636178, 'reg_alpha': 0.014230020576834122, 'reg_lambda': 0.059077165009478586}. Best is trial 2 with value: 67777.64769769466.\n"
     ]
    },
    {
     "name": "stdout",
     "output_type": "stream",
     "text": [
      "Early stopping, best iteration is:\n",
      "[26]\tvalid_0's rmse: 68363.2\n",
      "Training until validation scores don't improve for 100 rounds\n"
     ]
    },
    {
     "name": "stderr",
     "output_type": "stream",
     "text": [
      "[I 2025-09-13 01:59:21,844] Trial 6 finished with value: 68035.27873900371 and parameters: {'learning_rate': 0.28655881121402105, 'num_leaves': 1132, 'max_depth': 6, 'min_child_samples': 25, 'subsample': 0.823632503798897, 'colsample_bytree': 0.8373801414591314, 'reg_alpha': 0.02371503425305165, 'reg_lambda': 3.132221633646226e-07}. Best is trial 2 with value: 67777.64769769466.\n"
     ]
    },
    {
     "name": "stdout",
     "output_type": "stream",
     "text": [
      "Early stopping, best iteration is:\n",
      "[25]\tvalid_0's rmse: 68035.3\n",
      "Training until validation scores don't improve for 100 rounds\n"
     ]
    },
    {
     "name": "stderr",
     "output_type": "stream",
     "text": [
      "[I 2025-09-13 01:59:22,759] Trial 7 finished with value: 68142.47082242488 and parameters: {'learning_rate': 0.09276751217226585, 'num_leaves': 2485, 'max_depth': 4, 'min_child_samples': 5, 'subsample': 0.5752655788481372, 'colsample_bytree': 0.9233689826971561, 'reg_alpha': 0.059935711195001413, 'reg_lambda': 0.017757447312994966}. Best is trial 2 with value: 67777.64769769466.\n"
     ]
    },
    {
     "name": "stdout",
     "output_type": "stream",
     "text": [
      "Early stopping, best iteration is:\n",
      "[118]\tvalid_0's rmse: 68142.5\n",
      "Training until validation scores don't improve for 100 rounds\n",
      "Early stopping, best iteration is:\n",
      "[375]\tvalid_0's rmse: 67844\n"
     ]
    },
    {
     "name": "stderr",
     "output_type": "stream",
     "text": [
      "[I 2025-09-13 01:59:26,690] Trial 8 finished with value: 67843.96403862652 and parameters: {'learning_rate': 0.021529723016525722, 'num_leaves': 2998, 'max_depth': 8, 'min_child_samples': 43, 'subsample': 0.6099918943931106, 'colsample_bytree': 0.5987722396234839, 'reg_alpha': 7.526934645799706e-06, 'reg_lambda': 0.08586765446368193}. Best is trial 2 with value: 67777.64769769466.\n"
     ]
    },
    {
     "name": "stdout",
     "output_type": "stream",
     "text": [
      "Training until validation scores don't improve for 100 rounds\n",
      "Early stopping, best iteration is:\n",
      "[687]\tvalid_0's rmse: 67833.5\n"
     ]
    },
    {
     "name": "stderr",
     "output_type": "stream",
     "text": [
      "[I 2025-09-13 01:59:29,785] Trial 9 finished with value: 67833.4728487461 and parameters: {'learning_rate': 0.03560617361823676, 'num_leaves': 692, 'max_depth': 5, 'min_child_samples': 48, 'subsample': 0.5883877340168584, 'colsample_bytree': 0.5643541780648418, 'reg_alpha': 0.7054751003939054, 'reg_lambda': 0.4648861342884726}. Best is trial 2 with value: 67777.64769769466.\n"
     ]
    },
    {
     "name": "stdout",
     "output_type": "stream",
     "text": [
      "Training until validation scores don't improve for 100 rounds\n",
      "Early stopping, best iteration is:\n",
      "[5182]\tvalid_0's rmse: 67801.9\n"
     ]
    },
    {
     "name": "stderr",
     "output_type": "stream",
     "text": [
      "[I 2025-09-13 02:00:36,392] Trial 10 finished with value: 67801.86739182142 and parameters: {'learning_rate': 0.0010471484214686685, 'num_leaves': 233, 'max_depth': 9, 'min_child_samples': 71, 'subsample': 0.7119184179521882, 'colsample_bytree': 0.5043196500834208, 'reg_alpha': 2.419923991927423e-08, 'reg_lambda': 4.098748063344611}. Best is trial 2 with value: 67777.64769769466.\n"
     ]
    },
    {
     "name": "stdout",
     "output_type": "stream",
     "text": [
      "Training until validation scores don't improve for 100 rounds\n",
      "Early stopping, best iteration is:\n",
      "[6492]\tvalid_0's rmse: 67796.4\n"
     ]
    },
    {
     "name": "stderr",
     "output_type": "stream",
     "text": [
      "[I 2025-09-13 02:01:38,596] Trial 11 finished with value: 67796.44848262655 and parameters: {'learning_rate': 0.0010188811118087126, 'num_leaves': 123, 'max_depth': 9, 'min_child_samples': 72, 'subsample': 0.7092174370765126, 'colsample_bytree': 0.5238805578743219, 'reg_alpha': 1.3474772094168603e-08, 'reg_lambda': 6.589338293437556}. Best is trial 2 with value: 67777.64769769466.\n"
     ]
    },
    {
     "name": "stdout",
     "output_type": "stream",
     "text": [
      "Training until validation scores don't improve for 100 rounds\n",
      "Early stopping, best iteration is:\n",
      "[8288]\tvalid_0's rmse: 67812.7\n"
     ]
    },
    {
     "name": "stderr",
     "output_type": "stream",
     "text": [
      "[I 2025-09-13 02:02:36,821] Trial 12 finished with value: 67812.67847580828 and parameters: {'learning_rate': 0.0010999992386704135, 'num_leaves': 66, 'max_depth': 7, 'min_child_samples': 74, 'subsample': 0.6944645113342781, 'colsample_bytree': 0.6663696835903887, 'reg_alpha': 1.3729775156933269e-08, 'reg_lambda': 2.9894501498545228e-05}. Best is trial 2 with value: 67777.64769769466.\n"
     ]
    },
    {
     "name": "stdout",
     "output_type": "stream",
     "text": [
      "Training until validation scores don't improve for 100 rounds\n",
      "Early stopping, best iteration is:\n",
      "[1766]\tvalid_0's rmse: 67833.5\n"
     ]
    },
    {
     "name": "stderr",
     "output_type": "stream",
     "text": [
      "[I 2025-09-13 02:03:08,113] Trial 13 finished with value: 67833.51053150432 and parameters: {'learning_rate': 0.003090770115849854, 'num_leaves': 563, 'max_depth': 11, 'min_child_samples': 85, 'subsample': 0.673843382286332, 'colsample_bytree': 0.5195398140474129, 'reg_alpha': 2.5491558962144745e-05, 'reg_lambda': 6.0395788980055665}. Best is trial 2 with value: 67777.64769769466.\n"
     ]
    },
    {
     "name": "stdout",
     "output_type": "stream",
     "text": [
      "Training until validation scores don't improve for 100 rounds\n",
      "Did not meet early stopping. Best iteration is:\n",
      "[9997]\tvalid_0's rmse: 67958.3\n"
     ]
    },
    {
     "name": "stderr",
     "output_type": "stream",
     "text": [
      "[I 2025-09-13 02:03:39,555] Trial 14 finished with value: 67958.29141889098 and parameters: {'learning_rate': 0.002609356354293887, 'num_leaves': 913, 'max_depth': 3, 'min_child_samples': 60, 'subsample': 0.7568482990101193, 'colsample_bytree': 0.6743521331463558, 'reg_alpha': 1.7696675763930814e-07, 'reg_lambda': 5.2392582155185666e-05}. Best is trial 2 with value: 67777.64769769466.\n"
     ]
    },
    {
     "name": "stdout",
     "output_type": "stream",
     "text": [
      "Training until validation scores don't improve for 100 rounds\n",
      "Early stopping, best iteration is:\n",
      "[1606]\tvalid_0's rmse: 67854.3\n"
     ]
    },
    {
     "name": "stderr",
     "output_type": "stream",
     "text": [
      "[I 2025-09-13 02:04:11,459] Trial 15 finished with value: 67854.29722177614 and parameters: {'learning_rate': 0.002687647197067137, 'num_leaves': 549, 'max_depth': 11, 'min_child_samples': 78, 'subsample': 0.5156096507364379, 'colsample_bytree': 0.5956730363430327, 'reg_alpha': 2.7224372532122397e-06, 'reg_lambda': 0.9186200160137248}. Best is trial 2 with value: 67777.64769769466.\n"
     ]
    },
    {
     "name": "stdout",
     "output_type": "stream",
     "text": [
      "Training until validation scores don't improve for 100 rounds\n",
      "Early stopping, best iteration is:\n",
      "[2215]\tvalid_0's rmse: 67947.6\n"
     ]
    },
    {
     "name": "stderr",
     "output_type": "stream",
     "text": [
      "[I 2025-09-13 02:04:55,394] Trial 16 finished with value: 67947.57917175068 and parameters: {'learning_rate': 0.0017286000778893745, 'num_leaves': 1267, 'max_depth': 10, 'min_child_samples': 54, 'subsample': 0.7554830523291195, 'colsample_bytree': 0.747535632449426, 'reg_alpha': 0.0001226976461057141, 'reg_lambda': 0.0006042312869375772}. Best is trial 2 with value: 67777.64769769466.\n"
     ]
    },
    {
     "name": "stdout",
     "output_type": "stream",
     "text": [
      "Training until validation scores don't improve for 100 rounds\n",
      "Early stopping, best iteration is:\n",
      "[2206]\tvalid_0's rmse: 67777.5\n"
     ]
    },
    {
     "name": "stderr",
     "output_type": "stream",
     "text": [
      "[I 2025-09-13 02:05:08,948] Trial 17 finished with value: 67777.4596808933 and parameters: {'learning_rate': 0.005465501102315404, 'num_leaves': 280, 'max_depth': 7, 'min_child_samples': 81, 'subsample': 0.6511283405296285, 'colsample_bytree': 0.5565407972683526, 'reg_alpha': 3.3120658711843455e-07, 'reg_lambda': 0.6835872613441085}. Best is trial 17 with value: 67777.4596808933.\n"
     ]
    },
    {
     "name": "stdout",
     "output_type": "stream",
     "text": [
      "Training until validation scores don't improve for 100 rounds\n",
      "Early stopping, best iteration is:\n",
      "[1857]\tvalid_0's rmse: 67859.5\n"
     ]
    },
    {
     "name": "stderr",
     "output_type": "stream",
     "text": [
      "[I 2025-09-13 02:05:20,873] Trial 18 finished with value: 67859.51235871765 and parameters: {'learning_rate': 0.005481630126981985, 'num_leaves': 1877, 'max_depth': 6, 'min_child_samples': 86, 'subsample': 0.5032544767252884, 'colsample_bytree': 0.7466601786060684, 'reg_alpha': 4.2540330579498945e-07, 'reg_lambda': 0.0007288009164130619}. Best is trial 17 with value: 67777.4596808933.\n"
     ]
    },
    {
     "name": "stdout",
     "output_type": "stream",
     "text": [
      "Training until validation scores don't improve for 100 rounds\n",
      "Early stopping, best iteration is:\n",
      "[637]\tvalid_0's rmse: 67807.3\n"
     ]
    },
    {
     "name": "stderr",
     "output_type": "stream",
     "text": [
      "[I 2025-09-13 02:05:25,108] Trial 19 finished with value: 67807.29443356759 and parameters: {'learning_rate': 0.01959393498944701, 'num_leaves': 392, 'max_depth': 7, 'min_child_samples': 60, 'subsample': 0.6392393706488129, 'colsample_bytree': 0.6198425736972756, 'reg_alpha': 0.000152746157741609, 'reg_lambda': 0.3583158999771826}. Best is trial 17 with value: 67777.4596808933.\n"
     ]
    },
    {
     "name": "stdout",
     "output_type": "stream",
     "text": [
      "Training until validation scores don't improve for 100 rounds\n",
      "Early stopping, best iteration is:\n",
      "[9804]\tvalid_0's rmse: 67886\n"
     ]
    },
    {
     "name": "stderr",
     "output_type": "stream",
     "text": [
      "[I 2025-09-13 02:05:57,423] Trial 20 finished with value: 67885.99870722063 and parameters: {'learning_rate': 0.004223089253612323, 'num_leaves': 881, 'max_depth': 3, 'min_child_samples': 82, 'subsample': 0.5644744784076201, 'colsample_bytree': 0.7049050779823982, 'reg_alpha': 1.4321705837460654e-07, 'reg_lambda': 7.8942335153402e-06}. Best is trial 17 with value: 67777.4596808933.\n"
     ]
    },
    {
     "name": "stdout",
     "output_type": "stream",
     "text": [
      "Training until validation scores don't improve for 100 rounds\n",
      "Early stopping, best iteration is:\n",
      "[6267]\tvalid_0's rmse: 67801.6\n"
     ]
    },
    {
     "name": "stderr",
     "output_type": "stream",
     "text": [
      "[I 2025-09-13 02:06:31,501] Trial 21 finished with value: 67801.60832101188 and parameters: {'learning_rate': 0.001781116515202551, 'num_leaves': 30, 'max_depth': 8, 'min_child_samples': 69, 'subsample': 0.6599527658783612, 'colsample_bytree': 0.5467941278375502, 'reg_alpha': 1.2784706069540969e-08, 'reg_lambda': 6.603619006114668}. Best is trial 17 with value: 67777.4596808933.\n"
     ]
    },
    {
     "name": "stdout",
     "output_type": "stream",
     "text": [
      "Training until validation scores don't improve for 100 rounds\n",
      "Early stopping, best iteration is:\n",
      "[3361]\tvalid_0's rmse: 67851.4\n"
     ]
    },
    {
     "name": "stderr",
     "output_type": "stream",
     "text": [
      "[I 2025-09-13 02:07:16,123] Trial 22 finished with value: 67851.3673961406 and parameters: {'learning_rate': 0.001556301233861315, 'num_leaves': 345, 'max_depth': 9, 'min_child_samples': 91, 'subsample': 0.72543617146831, 'colsample_bytree': 0.5653883683251516, 'reg_alpha': 1.8707582313344996e-06, 'reg_lambda': 1.0754241058270595}. Best is trial 17 with value: 67777.4596808933.\n"
     ]
    },
    {
     "name": "stdout",
     "output_type": "stream",
     "text": [
      "Training until validation scores don't improve for 100 rounds\n",
      "Early stopping, best iteration is:\n",
      "[5196]\tvalid_0's rmse: 67783.4\n"
     ]
    },
    {
     "name": "stderr",
     "output_type": "stream",
     "text": [
      "[I 2025-09-13 02:07:38,834] Trial 23 finished with value: 67783.44392766929 and parameters: {'learning_rate': 0.0037298642466323333, 'num_leaves': 256, 'max_depth': 5, 'min_child_samples': 55, 'subsample': 0.7803900031605767, 'colsample_bytree': 0.500270021626363, 'reg_alpha': 5.6904174427003954e-08, 'reg_lambda': 0.11846279829035043}. Best is trial 17 with value: 67777.4596808933.\n"
     ]
    },
    {
     "name": "stdout",
     "output_type": "stream",
     "text": [
      "Training until validation scores don't improve for 100 rounds\n",
      "Early stopping, best iteration is:\n",
      "[1854]\tvalid_0's rmse: 67793.4\n"
     ]
    },
    {
     "name": "stderr",
     "output_type": "stream",
     "text": [
      "[I 2025-09-13 02:07:46,733] Trial 24 finished with value: 67793.36042908448 and parameters: {'learning_rate': 0.011949785846592635, 'num_leaves': 794, 'max_depth': 5, 'min_child_samples': 39, 'subsample': 0.9046091513595123, 'colsample_bytree': 0.6195068910183252, 'reg_alpha': 7.928577670560459e-08, 'reg_lambda': 0.08900580367859393}. Best is trial 17 with value: 67777.4596808933.\n"
     ]
    },
    {
     "name": "stdout",
     "output_type": "stream",
     "text": [
      "Training until validation scores don't improve for 100 rounds\n",
      "Early stopping, best iteration is:\n",
      "[3821]\tvalid_0's rmse: 67807.8\n"
     ]
    },
    {
     "name": "stderr",
     "output_type": "stream",
     "text": [
      "[I 2025-09-13 02:08:05,912] Trial 25 finished with value: 67807.84231077187 and parameters: {'learning_rate': 0.0037839324081547707, 'num_leaves': 424, 'max_depth': 5, 'min_child_samples': 56, 'subsample': 0.7841366920637799, 'colsample_bytree': 0.5648229152571571, 'reg_alpha': 1.61389571721808e-05, 'reg_lambda': 0.002561105247054387}. Best is trial 17 with value: 67777.4596808933.\n"
     ]
    },
    {
     "name": "stdout",
     "output_type": "stream",
     "text": [
      "Training until validation scores don't improve for 100 rounds\n",
      "Early stopping, best iteration is:\n",
      "[1515]\tvalid_0's rmse: 67752\n"
     ]
    },
    {
     "name": "stderr",
     "output_type": "stream",
     "text": [
      "[I 2025-09-13 02:08:17,538] Trial 26 finished with value: 67752.03514734756 and parameters: {'learning_rate': 0.00582436716681728, 'num_leaves': 1115, 'max_depth': 7, 'min_child_samples': 50, 'subsample': 0.6510217820249602, 'colsample_bytree': 0.5086190727560862, 'reg_alpha': 1.9893995809723266e-06, 'reg_lambda': 0.15497469679452436}. Best is trial 26 with value: 67752.03514734756.\n"
     ]
    },
    {
     "name": "stdout",
     "output_type": "stream",
     "text": [
      "Training until validation scores don't improve for 100 rounds\n",
      "Early stopping, best iteration is:\n",
      "[306]\tvalid_0's rmse: 67822\n"
     ]
    },
    {
     "name": "stderr",
     "output_type": "stream",
     "text": [
      "[I 2025-09-13 02:08:20,216] Trial 27 finished with value: 67822.01192676088 and parameters: {'learning_rate': 0.033214877502230775, 'num_leaves': 1165, 'max_depth': 7, 'min_child_samples': 45, 'subsample': 0.5482508381374227, 'colsample_bytree': 0.5953093010150066, 'reg_alpha': 1.0627089205121629e-06, 'reg_lambda': 1.4249958409317833}. Best is trial 26 with value: 67752.03514734756.\n"
     ]
    },
    {
     "name": "stdout",
     "output_type": "stream",
     "text": [
      "Training until validation scores don't improve for 100 rounds\n",
      "Early stopping, best iteration is:\n",
      "[1237]\tvalid_0's rmse: 67721.5\n"
     ]
    },
    {
     "name": "stderr",
     "output_type": "stream",
     "text": [
      "[I 2025-09-13 02:08:32,266] Trial 28 finished with value: 67721.5369686429 and parameters: {'learning_rate': 0.006470466010076438, 'num_leaves': 1578, 'max_depth': 8, 'min_child_samples': 33, 'subsample': 0.6430116584363125, 'colsample_bytree': 0.5413265326286524, 'reg_alpha': 6.028687694358063e-06, 'reg_lambda': 0.014874193187779399}. Best is trial 28 with value: 67721.5369686429.\n"
     ]
    },
    {
     "name": "stdout",
     "output_type": "stream",
     "text": [
      "Training until validation scores don't improve for 100 rounds\n",
      "Early stopping, best iteration is:\n",
      "[569]\tvalid_0's rmse: 68045.3\n"
     ]
    },
    {
     "name": "stderr",
     "output_type": "stream",
     "text": [
      "[I 2025-09-13 02:08:39,284] Trial 29 finished with value: 68045.33063478737 and parameters: {'learning_rate': 0.01053026003017416, 'num_leaves': 1650, 'max_depth': 8, 'min_child_samples': 7, 'subsample': 0.9776153840718049, 'colsample_bytree': 0.6373556489406204, 'reg_alpha': 0.0008801800962198123, 'reg_lambda': 0.004496866152472956}. Best is trial 28 with value: 67721.5369686429.\n"
     ]
    },
    {
     "name": "stdout",
     "output_type": "stream",
     "text": [
      "Training until validation scores don't improve for 100 rounds\n",
      "Early stopping, best iteration is:\n",
      "[631]\tvalid_0's rmse: 67866.5\n"
     ]
    },
    {
     "name": "stderr",
     "output_type": "stream",
     "text": [
      "[I 2025-09-13 02:08:56,521] Trial 30 finished with value: 67866.49982722984 and parameters: {'learning_rate': 0.006201439859884042, 'num_leaves': 1505, 'max_depth': 11, 'min_child_samples': 30, 'subsample': 0.6771074020316539, 'colsample_bytree': 0.542466781083022, 'reg_alpha': 5.6649905784689826e-05, 'reg_lambda': 0.019420095484711273}. Best is trial 28 with value: 67721.5369686429.\n"
     ]
    },
    {
     "name": "stdout",
     "output_type": "stream",
     "text": [
      "Training until validation scores don't improve for 100 rounds\n",
      "Early stopping, best iteration is:\n",
      "[669]\tvalid_0's rmse: 67811.4\n"
     ]
    },
    {
     "name": "stderr",
     "output_type": "stream",
     "text": [
      "[I 2025-09-13 02:09:01,049] Trial 31 finished with value: 67811.42504467812 and parameters: {'learning_rate': 0.014185455247896295, 'num_leaves': 2058, 'max_depth': 6, 'min_child_samples': 14, 'subsample': 0.6351254869226063, 'colsample_bytree': 0.5675823190236037, 'reg_alpha': 4.587552070884311e-06, 'reg_lambda': 0.23503073844778793}. Best is trial 28 with value: 67721.5369686429.\n"
     ]
    },
    {
     "name": "stdout",
     "output_type": "stream",
     "text": [
      "Training until validation scores don't improve for 100 rounds\n",
      "Early stopping, best iteration is:\n",
      "[1357]\tvalid_0's rmse: 67798.1\n"
     ]
    },
    {
     "name": "stderr",
     "output_type": "stream",
     "text": [
      "[I 2025-09-13 02:09:10,407] Trial 32 finished with value: 67798.10858381858 and parameters: {'learning_rate': 0.0076924026348737014, 'num_leaves': 1428, 'max_depth': 7, 'min_child_samples': 66, 'subsample': 0.6419867054201401, 'colsample_bytree': 0.7040498346308726, 'reg_alpha': 4.891408686970649e-07, 'reg_lambda': 0.020827992240012447}. Best is trial 28 with value: 67721.5369686429.\n"
     ]
    },
    {
     "name": "stdout",
     "output_type": "stream",
     "text": [
      "Training until validation scores don't improve for 100 rounds\n",
      "Early stopping, best iteration is:\n",
      "[1068]\tvalid_0's rmse: 67804.6\n"
     ]
    },
    {
     "name": "stderr",
     "output_type": "stream",
     "text": [
      "[I 2025-09-13 02:09:29,289] Trial 33 finished with value: 67804.55979766614 and parameters: {'learning_rate': 0.004987337460861705, 'num_leaves': 2362, 'max_depth': 10, 'min_child_samples': 37, 'subsample': 0.6066180411653985, 'colsample_bytree': 0.5320920251895132, 'reg_alpha': 5.925831503267528e-07, 'reg_lambda': 1.3793695113565754}. Best is trial 28 with value: 67721.5369686429.\n"
     ]
    },
    {
     "name": "stdout",
     "output_type": "stream",
     "text": [
      "Training until validation scores don't improve for 100 rounds\n",
      "Early stopping, best iteration is:\n",
      "[1214]\tvalid_0's rmse: 67812.1\n"
     ]
    },
    {
     "name": "stderr",
     "output_type": "stream",
     "text": [
      "[I 2025-09-13 02:09:40,048] Trial 34 finished with value: 67812.13084675196 and parameters: {'learning_rate': 0.00842686340348263, 'num_leaves': 1016, 'max_depth': 8, 'min_child_samples': 99, 'subsample': 0.5466670847308682, 'colsample_bytree': 0.5844083796708854, 'reg_alpha': 8.167909743716854e-06, 'reg_lambda': 0.0045386937816304}. Best is trial 28 with value: 67721.5369686429.\n"
     ]
    },
    {
     "name": "stdout",
     "output_type": "stream",
     "text": [
      "Training until validation scores don't improve for 100 rounds\n",
      "Early stopping, best iteration is:\n",
      "[1515]\tvalid_0's rmse: 67934.9\n"
     ]
    },
    {
     "name": "stderr",
     "output_type": "stream",
     "text": [
      "[I 2025-09-13 02:10:56,184] Trial 35 finished with value: 67934.92772679686 and parameters: {'learning_rate': 0.0022615247525579097, 'num_leaves': 1744, 'max_depth': 13, 'min_child_samples': 48, 'subsample': 0.658093238948671, 'colsample_bytree': 0.6387659773187586, 'reg_alpha': 2.2708765945862677e-07, 'reg_lambda': 0.24635992408050705}. Best is trial 28 with value: 67721.5369686429.\n"
     ]
    },
    {
     "name": "stdout",
     "output_type": "stream",
     "text": [
      "Training until validation scores don't improve for 100 rounds\n",
      "Early stopping, best iteration is:\n",
      "[435]\tvalid_0's rmse: 67881.1\n"
     ]
    },
    {
     "name": "stderr",
     "output_type": "stream",
     "text": [
      "[I 2025-09-13 02:10:59,116] Trial 36 finished with value: 67881.13288743614 and parameters: {'learning_rate': 0.025079798174184872, 'num_leaves': 1317, 'max_depth': 6, 'min_child_samples': 23, 'subsample': 0.6212673310896641, 'colsample_bytree': 0.8168308612499837, 'reg_alpha': 1.4454232055100108e-06, 'reg_lambda': 0.028214997901150562}. Best is trial 28 with value: 67721.5369686429.\n"
     ]
    },
    {
     "name": "stdout",
     "output_type": "stream",
     "text": [
      "Training until validation scores don't improve for 100 rounds\n",
      "Early stopping, best iteration is:\n",
      "[2945]\tvalid_0's rmse: 67844.2\n"
     ]
    },
    {
     "name": "stderr",
     "output_type": "stream",
     "text": [
      "[I 2025-09-13 02:11:12,160] Trial 37 finished with value: 67844.15820554641 and parameters: {'learning_rate': 0.008246202434846549, 'num_leaves': 2139, 'max_depth': 4, 'min_child_samples': 63, 'subsample': 0.6875738678862264, 'colsample_bytree': 0.5436613447292258, 'reg_alpha': 0.0005257095059776049, 'reg_lambda': 2.0283516822270395}. Best is trial 28 with value: 67721.5369686429.\n"
     ]
    },
    {
     "name": "stdout",
     "output_type": "stream",
     "text": [
      "Training until validation scores don't improve for 100 rounds\n",
      "Early stopping, best iteration is:\n",
      "[1272]\tvalid_0's rmse: 67924.2\n"
     ]
    },
    {
     "name": "stderr",
     "output_type": "stream",
     "text": [
      "[I 2025-09-13 02:11:17,110] Trial 38 finished with value: 67924.19946191892 and parameters: {'learning_rate': 0.015817843302255937, 'num_leaves': 648, 'max_depth': 4, 'min_child_samples': 19, 'subsample': 0.7316928486761314, 'colsample_bytree': 0.6959124843124336, 'reg_alpha': 0.0026566364219261216, 'reg_lambda': 0.05502701563790261}. Best is trial 28 with value: 67721.5369686429.\n"
     ]
    },
    {
     "name": "stdout",
     "output_type": "stream",
     "text": [
      "Training until validation scores don't improve for 100 rounds\n"
     ]
    },
    {
     "name": "stderr",
     "output_type": "stream",
     "text": [
      "[I 2025-09-13 02:11:18,695] Trial 39 finished with value: 67989.09011126522 and parameters: {'learning_rate': 0.06999141074744099, 'num_leaves': 1023, 'max_depth': 7, 'min_child_samples': 32, 'subsample': 0.6080344514069236, 'colsample_bytree': 0.9107460787476883, 'reg_alpha': 4.564086491783371e-08, 'reg_lambda': 0.00015052930711757028}. Best is trial 28 with value: 67721.5369686429.\n"
     ]
    },
    {
     "name": "stdout",
     "output_type": "stream",
     "text": [
      "Early stopping, best iteration is:\n",
      "[115]\tvalid_0's rmse: 67989.1\n",
      "Training until validation scores don't improve for 100 rounds\n",
      "Early stopping, best iteration is:\n",
      "[1854]\tvalid_0's rmse: 67777.5\n"
     ]
    },
    {
     "name": "stderr",
     "output_type": "stream",
     "text": [
      "[I 2025-09-13 02:11:30,489] Trial 40 finished with value: 67777.4580066216 and parameters: {'learning_rate': 0.004536942359357857, 'num_leaves': 1874, 'max_depth': 6, 'min_child_samples': 49, 'subsample': 0.5885298038131523, 'colsample_bytree': 0.5009538287934738, 'reg_alpha': 1.35194933466547e-05, 'reg_lambda': 4.0840936698450625e-07}. Best is trial 28 with value: 67721.5369686429.\n"
     ]
    },
    {
     "name": "stdout",
     "output_type": "stream",
     "text": [
      "Training until validation scores don't improve for 100 rounds\n",
      "Early stopping, best iteration is:\n",
      "[1950]\tvalid_0's rmse: 67737.8\n"
     ]
    },
    {
     "name": "stderr",
     "output_type": "stream",
     "text": [
      "[I 2025-09-13 02:11:45,683] Trial 41 finished with value: 67737.84940862826 and parameters: {'learning_rate': 0.00605188744087984, 'num_leaves': 1890, 'max_depth': 6, 'min_child_samples': 39, 'subsample': 0.5970134231329037, 'colsample_bytree': 0.5057451000998955, 'reg_alpha': 1.5697821624990577e-05, 'reg_lambda': 3.3461789294468096e-07}. Best is trial 28 with value: 67721.5369686429.\n"
     ]
    },
    {
     "name": "stdout",
     "output_type": "stream",
     "text": [
      "Training until validation scores don't improve for 100 rounds\n",
      "Early stopping, best iteration is:\n",
      "[1822]\tvalid_0's rmse: 67741.6\n"
     ]
    },
    {
     "name": "stderr",
     "output_type": "stream",
     "text": [
      "[I 2025-09-13 02:11:56,693] Trial 42 finished with value: 67741.611698144 and parameters: {'learning_rate': 0.006585517013846298, 'num_leaves': 1964, 'max_depth': 6, 'min_child_samples': 39, 'subsample': 0.5893617777246757, 'colsample_bytree': 0.5172233831780849, 'reg_alpha': 1.5848065086308638e-05, 'reg_lambda': 2.6064971020807375e-07}. Best is trial 28 with value: 67721.5369686429.\n"
     ]
    },
    {
     "name": "stdout",
     "output_type": "stream",
     "text": [
      "Training until validation scores don't improve for 100 rounds\n",
      "Early stopping, best iteration is:\n",
      "[1465]\tvalid_0's rmse: 67729\n"
     ]
    },
    {
     "name": "stderr",
     "output_type": "stream",
     "text": [
      "[I 2025-09-13 02:12:05,245] Trial 43 finished with value: 67728.96234101387 and parameters: {'learning_rate': 0.01112351825466734, 'num_leaves': 1971, 'max_depth': 6, 'min_child_samples': 39, 'subsample': 0.586747069251217, 'colsample_bytree': 0.5002553392494489, 'reg_alpha': 2.3055919521385312e-05, 'reg_lambda': 1.1040973605680885e-08}. Best is trial 28 with value: 67721.5369686429.\n"
     ]
    },
    {
     "name": "stdout",
     "output_type": "stream",
     "text": [
      "Training until validation scores don't improve for 100 rounds\n",
      "Early stopping, best iteration is:\n",
      "[566]\tvalid_0's rmse: 67735.5\n"
     ]
    },
    {
     "name": "stderr",
     "output_type": "stream",
     "text": [
      "[I 2025-09-13 02:12:11,396] Trial 44 finished with value: 67735.52479264066 and parameters: {'learning_rate': 0.01190946150805417, 'num_leaves': 2156, 'max_depth': 8, 'min_child_samples': 39, 'subsample': 0.5312042157479725, 'colsample_bytree': 0.5239689370960887, 'reg_alpha': 0.0001850632331736983, 'reg_lambda': 1.0140375991257881e-08}. Best is trial 28 with value: 67721.5369686429.\n"
     ]
    },
    {
     "name": "stdout",
     "output_type": "stream",
     "text": [
      "Training until validation scores don't improve for 100 rounds\n",
      "Early stopping, best iteration is:\n",
      "[595]\tvalid_0's rmse: 67748.3\n"
     ]
    },
    {
     "name": "stderr",
     "output_type": "stream",
     "text": [
      "[I 2025-09-13 02:12:18,370] Trial 45 finished with value: 67748.33119527376 and parameters: {'learning_rate': 0.011227206955737569, 'num_leaves': 2597, 'max_depth': 8, 'min_child_samples': 40, 'subsample': 0.5335828340675616, 'colsample_bytree': 0.5290038218601077, 'reg_alpha': 6.848141262267566e-05, 'reg_lambda': 1.530105693975209e-08}. Best is trial 28 with value: 67721.5369686429.\n"
     ]
    },
    {
     "name": "stdout",
     "output_type": "stream",
     "text": [
      "Training until validation scores don't improve for 100 rounds\n",
      "Early stopping, best iteration is:\n",
      "[365]\tvalid_0's rmse: 67762.5\n"
     ]
    },
    {
     "name": "stderr",
     "output_type": "stream",
     "text": [
      "[I 2025-09-13 02:12:24,647] Trial 46 finished with value: 67762.48327739471 and parameters: {'learning_rate': 0.013551094081032009, 'num_leaves': 2153, 'max_depth': 9, 'min_child_samples': 28, 'subsample': 0.5629263482789922, 'colsample_bytree': 0.5238588426685478, 'reg_alpha': 4.3697295044767066e-05, 'reg_lambda': 2.3467788674006498e-07}. Best is trial 28 with value: 67721.5369686429.\n"
     ]
    },
    {
     "name": "stdout",
     "output_type": "stream",
     "text": [
      "Training until validation scores don't improve for 100 rounds\n",
      "Early stopping, best iteration is:\n",
      "[786]\tvalid_0's rmse: 67812.2\n"
     ]
    },
    {
     "name": "stderr",
     "output_type": "stream",
     "text": [
      "[I 2025-09-13 02:12:28,860] Trial 47 finished with value: 67812.21063098407 and parameters: {'learning_rate': 0.027556944771298587, 'num_leaves': 2334, 'max_depth': 5, 'min_child_samples': 34, 'subsample': 0.5240689737209252, 'colsample_bytree': 0.5836922918776197, 'reg_alpha': 0.0002866022397232693, 'reg_lambda': 1.1224807382338942e-08}. Best is trial 28 with value: 67721.5369686429.\n"
     ]
    },
    {
     "name": "stdout",
     "output_type": "stream",
     "text": [
      "Training until validation scores don't improve for 100 rounds\n",
      "Early stopping, best iteration is:\n",
      "[65]\tvalid_0's rmse: 68029\n"
     ]
    },
    {
     "name": "stderr",
     "output_type": "stream",
     "text": [
      "[I 2025-09-13 02:12:33,438] Trial 48 finished with value: 68028.98198948945 and parameters: {'learning_rate': 0.04886076725088885, 'num_leaves': 2039, 'max_depth': 14, 'min_child_samples': 41, 'subsample': 0.5840481275594809, 'colsample_bytree': 0.61842396519497, 'reg_alpha': 2.9214647898406097e-05, 'reg_lambda': 1.0935666438692148e-07}. Best is trial 28 with value: 67721.5369686429.\n"
     ]
    },
    {
     "name": "stdout",
     "output_type": "stream",
     "text": [
      "Training until validation scores don't improve for 100 rounds\n",
      "Early stopping, best iteration is:\n",
      "[166]\tvalid_0's rmse: 67901.2\n"
     ]
    },
    {
     "name": "stderr",
     "output_type": "stream",
     "text": [
      "[I 2025-09-13 02:12:48,167] Trial 49 finished with value: 67901.18578611684 and parameters: {'learning_rate': 0.0179017747489574, 'num_leaves': 1713, 'max_depth': 16, 'min_child_samples': 36, 'subsample': 0.5946150141244596, 'colsample_bytree': 0.5221244672559726, 'reg_alpha': 4.69695504134731, 'reg_lambda': 2.1251718544122723e-06}. Best is trial 28 with value: 67721.5369686429.\n"
     ]
    },
    {
     "name": "stdout",
     "output_type": "stream",
     "text": [
      "Best LightGBM params: {'learning_rate': 0.006470466010076438, 'num_leaves': 1578, 'max_depth': 8, 'min_child_samples': 33, 'subsample': 0.6430116584363125, 'colsample_bytree': 0.5413265326286524, 'reg_alpha': 6.028687694358063e-06, 'reg_lambda': 0.014874193187779399}\n",
      "Best LightGBM RMSE: 67721.5369686429\n"
     ]
    }
   ],
   "source": [
    "# Hyperparameter Tuning for Lightgbm model\n",
    "def objective_lgb(trial):\n",
    "    params = {\n",
    "        \"objective\": \"regression\",\n",
    "        \"metric\": \"rmse\",\n",
    "        \"boosting_type\": \"gbdt\",\n",
    "        \"verbosity\": -1,\n",
    "        \"n_estimators\": 10000,\n",
    "        \"learning_rate\": trial.suggest_float(\"learning_rate\", 1e-3, 0.3, log=True),\n",
    "        \"num_leaves\": trial.suggest_int(\"num_leaves\", 20, 3000),\n",
    "        \"max_depth\": trial.suggest_int(\"max_depth\", 3, 16),\n",
    "        \"min_child_samples\": trial.suggest_int(\"min_child_samples\", 5, 100),\n",
    "        \"subsample\": trial.suggest_float(\"subsample\", 0.5, 1.0),\n",
    "        \"colsample_bytree\": trial.suggest_float(\"colsample_bytree\", 0.5, 1.0),\n",
    "        \"reg_alpha\": trial.suggest_float(\"reg_alpha\", 1e-8, 10.0, log=True),\n",
    "        \"reg_lambda\": trial.suggest_float(\"reg_lambda\", 1e-8, 10.0, log=True),\n",
    "    }\n",
    "\n",
    "    # Train/Val split\n",
    "    X_train, X_val, y_train, y_val = train_test_split(X, y, test_size=0.2, random_state=42)\n",
    "\n",
    "    model = lgb.LGBMRegressor(**params)\n",
    "    model.fit(\n",
    "        X_train, y_train,\n",
    "        eval_set=[(X_val, y_val)],\n",
    "        eval_metric=\"rmse\",\n",
    "        callbacks=[lgb.early_stopping(100), lgb.log_evaluation(-1)]\n",
    "    )\n",
    "\n",
    "    preds = model.predict(X_val, num_iteration=model.best_iteration_)\n",
    "    rmse = np.sqrt(mean_squared_error(y_val, preds))  # RMSE in original space\n",
    "    return rmse\n",
    "\n",
    "# Run Optuna\n",
    "study_lgb = optuna.create_study(direction=\"minimize\")\n",
    "study_lgb.optimize(objective_lgb, n_trials=50)\n",
    "print(\"Best LightGBM params:\", study_lgb.best_trial.params)\n",
    "print(\"Best LightGBM RMSE:\", study_lgb.best_value)"
   ]
  },
  {
   "cell_type": "code",
   "execution_count": 102,
   "metadata": {},
   "outputs": [
    {
     "name": "stdout",
     "output_type": "stream",
     "text": [
      "--- Fold 1 / 5 ---\n",
      "--- Fold 2 / 5 ---\n",
      "--- Fold 3 / 5 ---\n",
      "--- Fold 4 / 5 ---\n",
      "--- Fold 5 / 5 ---\n",
      "\n",
      "Stacking Model RMSE: 72697.7682\n",
      "submission.csv created ✅\n"
     ]
    }
   ],
   "source": [
    "## KFold using both finetuned models\n",
    "from sklearn.model_selection import KFold\n",
    "from sklearn.linear_model import Ridge\n",
    "\n",
    "# Define RMSE function\n",
    "def rmse(y_true, y_pred):\n",
    "    return np.sqrt(mean_squared_error(y_true, y_pred))\n",
    "\n",
    "# Define KFold\n",
    "kf = KFold(n_splits=5, shuffle=True, random_state=42)\n",
    "\n",
    "# Store OOF preds\n",
    "oof_lgb = np.zeros(len(X))\n",
    "oof_cat = np.zeros(len(X))\n",
    "\n",
    "test_preds_lgb = np.zeros(len(test))\n",
    "test_preds_cat = np.zeros(len(test))\n",
    "\n",
    "# --- Level 1 Models (LGB + CatBoost) ---\n",
    "for fold, (train_idx, val_idx) in enumerate(kf.split(X, y)):\n",
    "    print(f\"--- Fold {fold + 1} / {kf.get_n_splits()} ---\")\n",
    "    \n",
    "    X_train, X_val = X.iloc[train_idx], X.iloc[val_idx]\n",
    "    y_train, y_val = y.iloc[train_idx], y.iloc[val_idx]\n",
    "    \n",
    "    # LightGBM\n",
    "    model_lgb = lgb.LGBMRegressor(\n",
    "        **study_lgb.best_trial.params,\n",
    "        n_estimators=5000\n",
    "    )\n",
    "    model_lgb.fit(\n",
    "        X_train, y_train,\n",
    "        eval_set=[(X_val, y_val)],\n",
    "        eval_metric=\"rmse\"\n",
    "    )\n",
    "    preds_val_lgb = model_lgb.predict(X_val, num_iteration=model_lgb.best_iteration_)\n",
    "    preds_test_lgb = model_lgb.predict(test, num_iteration=model_lgb.best_iteration_)\n",
    "    \n",
    "    oof_lgb[val_idx] = preds_val_lgb\n",
    "    test_preds_lgb += preds_test_lgb / kf.n_splits\n",
    "    \n",
    "    # CatBoost\n",
    "    model_cat = CatBoostRegressor(\n",
    "        **study_cat.best_trial.params,\n",
    "        iterations=5000,\n",
    "        eval_metric=\"RMSE\",\n",
    "        early_stopping_rounds=100,\n",
    "        verbose=0\n",
    "    )\n",
    "    model_cat.fit(X_train, y_train, eval_set=(X_val, y_val))\n",
    "    \n",
    "    preds_val_cat = model_cat.predict(X_val)\n",
    "    preds_test_cat = model_cat.predict(test)\n",
    "    \n",
    "    oof_cat[val_idx] = preds_val_cat\n",
    "    test_preds_cat += preds_test_cat / kf.n_splits\n",
    "\n",
    "# --- Level 2 Model (Stacking) ---\n",
    "stack_train = np.vstack([oof_lgb, oof_cat]).T\n",
    "stack_test = np.vstack([test_preds_lgb, test_preds_cat]).T\n",
    "\n",
    "meta_model = Ridge(alpha=1.0)\n",
    "meta_model.fit(stack_train, y)\n",
    "\n",
    "stack_oof = meta_model.predict(stack_train)\n",
    "stack_rmse = rmse(y, stack_oof)\n",
    "print(f\"\\nStacking Model RMSE: {stack_rmse:.4f}\")\n",
    "\n",
    "# Final predictions\n",
    "final_preds = meta_model.predict(stack_test)\n",
    "\n",
    "# Submission\n",
    "submission = pd.DataFrame({\n",
    "    \"id\": encoded_test.id,  # Replace with actual ID column name from test.csv\n",
    "    \"price\": final_preds\n",
    "})\n",
    "submission.to_csv(\"crazy_stacking.csv\", index=False)\n",
    "print(\"submission.csv created ✅\")"
   ]
  }
 ],
 "metadata": {
  "__sphinx_history__.8002fb97-2c22-4ed0-8331-03f809e80d30": "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",
  "colab": {
   "provenance": []
  },
  "kernelspec": {
   "display_name": "Python 3 (ipykernel)",
   "language": "python",
   "name": "python3"
  },
  "language_info": {
   "codemirror_mode": {
    "name": "ipython",
    "version": 3
   },
   "file_extension": ".py",
   "mimetype": "text/x-python",
   "name": "python",
   "nbconvert_exporter": "python",
   "pygments_lexer": "ipython3",
   "version": "3.11.13"
  }
 },
 "nbformat": 4,
 "nbformat_minor": 4
}
